{
 "cells": [
  {
   "cell_type": "code",
   "execution_count": null,
   "metadata": {
    "dotnet_interactive": {
     "language": "fsharp"
    }
   },
   "outputs": [],
   "source": [
    "#r \"nuget: MathNet.Numerics\"\n",
    "\n",
    "open System.Linq;\n",
    "open System.Collections.Generic\n",
    "open System.Collections;\n",
    "open MathNet.Numerics.LinearAlgebra\n",
    "open MathNet.Numerics.Distributions"
   ]
  },
  {
   "attachments": {},
   "cell_type": "markdown",
   "metadata": {
    "dotnet_interactive": {
     "language": "fsharp"
    },
    "polyglot_notebook": {
     "kernelName": "fsharp"
    }
   },
   "source": [
    "## Domain"
   ]
  },
  {
   "cell_type": "code",
   "execution_count": null,
   "metadata": {
    "dotnet_interactive": {
     "language": "fsharp"
    },
    "polyglot_notebook": {
     "kernelName": "fsharp"
    }
   },
   "outputs": [],
   "source": [
    "type Goal = \n",
    "    | Max\n",
    "    | Min\n",
    "\n",
    "type SquaredExponentialKernelParameters = { LengthScale : double; Variance : double }\n",
    "type DataPoint       = { X : double; Y : double }\n",
    "type GaussianProcess = \n",
    "    { \n",
    "        Kernel                   : SquaredExponentialKernelParameters \n",
    "        DataPoints               : List<DataPoint>\n",
    "        mutable CovarianceMatrix : Matrix<double>\n",
    "    }\n",
    "\n",
    "type AcquistionFunctionResult = { X : double; Y : double }\n",
    "\n",
    "type EstimationResult =\n",
    "    { \n",
    "        Mean       : double\n",
    "        LowerBound : double\n",
    "        UpperBound : double\n",
    "        X          : double\n",
    "    }\n",
    "\n",
    "type GaussianModel =\n",
    "    {\n",
    "        GaussianProcess : GaussianProcess \n",
    "        Query           : double -> double\n",
    "        Inputs          : List<double> \n",
    "    }\n",
    "\n",
    "type ModelResult = \n",
    "    { \n",
    "        Input                    : List<DataPoint>\n",
    "        AcquistionFunctionResult : List<AcquistionFunctionResult>\n",
    "        EstimationResult         : List<EstimationResult>\n",
    "    }"
   ]
  },
  {
   "attachments": {},
   "cell_type": "markdown",
   "metadata": {
    "dotnet_interactive": {
     "language": "fsharp"
    },
    "polyglot_notebook": {
     "kernelName": "fsharp"
    }
   },
   "source": [
    "## Functions"
   ]
  },
  {
   "attachments": {},
   "cell_type": "markdown",
   "metadata": {
    "dotnet_interactive": {
     "language": "fsharp"
    },
    "polyglot_notebook": {
     "kernelName": "fsharp"
    }
   },
   "source": [
    "### Kernel "
   ]
  },
  {
   "cell_type": "code",
   "execution_count": null,
   "metadata": {
    "dotnet_interactive": {
     "language": "fsharp"
    },
    "polyglot_notebook": {
     "kernelName": "fsharp"
    }
   },
   "outputs": [],
   "source": [
    "// Squared Exponential Kernel.\n",
    "let gaussianKernelCompute (kernel: SquaredExponentialKernelParameters) (left : double) (right : double) : double  = \n",
    "    if left = right then kernel.Variance\n",
    "    else \n",
    "        let squareDistance : double = Math.Pow( left - right, 2 )\n",
    "        kernel.Variance * Math.Exp( -squareDistance / ( kernel.LengthScale * kernel.LengthScale * 2. ))"
   ]
  },
  {
   "attachments": {},
   "cell_type": "markdown",
   "metadata": {
    "dotnet_interactive": {
     "language": "fsharp"
    },
    "polyglot_notebook": {
     "kernelName": "fsharp"
    }
   },
   "source": [
    "### Estimation "
   ]
  },
  {
   "cell_type": "code",
   "execution_count": null,
   "metadata": {
    "dotnet_interactive": {
     "language": "fsharp"
    }
   },
   "outputs": [],
   "source": [
    "// Estimation Method.\n",
    "let estimateAtPoint (gaussianProcess : GaussianProcess) (x : double) : EstimationResult = \n",
    "    let kStar : double[] = \n",
    "        gaussianProcess.DataPoints\n",
    "                       .Select(fun dp -> gaussianKernelCompute gaussianProcess.Kernel x dp.X)\n",
    "                       .ToArray()\n",
    "\n",
    "    let yTrain : double[] = \n",
    "        gaussianProcess.DataPoints\n",
    "                       .Select(fun dp -> dp.Y)\n",
    "                       .ToArray()\n",
    "\n",
    "    let ks         : Vector<double> = Vector<double>.Build.Dense kStar\n",
    "    let f          : Vector<double> = Vector<double>.Build.Dense yTrain\n",
    "    let common     : Vector<double> = gaussianProcess.CovarianceMatrix.Inverse().Multiply(ks)\n",
    "    let mu         : double         = common.DotProduct f\n",
    "    let confidence : double         = Math.Abs(-common.DotProduct(ks) + (gaussianKernelCompute gaussianProcess.Kernel x x))\n",
    "    let estimation = { Mean = mu; LowerBound = mu - confidence; UpperBound = mu + confidence; X = x }\n",
    "    estimation"
   ]
  },
  {
   "cell_type": "code",
   "execution_count": null,
   "metadata": {
    "dotnet_interactive": {
     "language": "fsharp"
    },
    "polyglot_notebook": {
     "kernelName": "fsharp"
    }
   },
   "outputs": [],
   "source": [
    "// Based on each subsequent iteration, we compute the next query point by referring to the surrogate function \n",
    "// that produces the highest acquisition value.\n",
    "let estimateAtRange (gaussianProcess : GaussianProcess) (X : List<double>) : List<EstimationResult> =\n",
    "    let result = X.Select(fun x -> estimateAtPoint gaussianProcess x).ToList()\n",
    "    result"
   ]
  },
  {
   "attachments": {},
   "cell_type": "markdown",
   "metadata": {
    "dotnet_interactive": {
     "language": "fsharp"
    },
    "polyglot_notebook": {
     "kernelName": "fsharp"
    }
   },
   "source": [
    "### Acquisition"
   ]
  },
  {
   "cell_type": "code",
   "execution_count": null,
   "metadata": {
    "dotnet_interactive": {
     "language": "fsharp"
    },
    "polyglot_notebook": {
     "kernelName": "fsharp"
    }
   },
   "outputs": [],
   "source": [
    "// Acquisition Method.\n",
    "let expectedImprovement (gaussianProcess : GaussianProcess) \n",
    "                        (estimationResult : EstimationResult) \n",
    "                        (goal : Goal) : AcquistionFunctionResult = \n",
    "\n",
    "    // TODO: Improve this logic by keeping score of the max / min based on the goal.\n",
    "    let bestValue : double = \n",
    "        match goal with\n",
    "        | Goal.Max -> gaussianProcess.DataPoints.Max(fun l -> l.Y)\n",
    "        | Goal.Min -> gaussianProcess.DataPoints.Min(fun l -> l.Y)\n",
    "\n",
    "    if gaussianProcess.DataPoints.Any(fun d -> d.X = estimationResult.X) then { X = estimationResult.X ; Y = 0. } \n",
    "    else\n",
    "        let delta : double = estimationResult.Mean - bestValue\n",
    "        let sigma : double = estimationResult.UpperBound - estimationResult.LowerBound\n",
    "        let z     : double = delta / sigma\n",
    "        let next  : double = delta * Normal.CDF(0., 1., z) + sigma * Normal.PDF(0., 1., z)\n",
    "\n",
    "        { X = estimationResult.X ; Y = Math.Max(next, 0) }"
   ]
  },
  {
   "attachments": {},
   "cell_type": "markdown",
   "metadata": {
    "dotnet_interactive": {
     "language": "fsharp"
    },
    "polyglot_notebook": {
     "kernelName": "fsharp"
    }
   },
   "source": [
    "### Model"
   ]
  },
  {
   "cell_type": "code",
   "execution_count": null,
   "metadata": {
    "dotnet_interactive": {
     "language": "fsharp"
    },
    "polyglot_notebook": {
     "kernelName": "fsharp"
    }
   },
   "outputs": [],
   "source": [
    "let addDataPoint (model : GaussianModel) (dataPoint : DataPoint) : unit =\n",
    "\n",
    "    model.GaussianProcess.DataPoints.Add dataPoint\n",
    "\n",
    "    let size : int = model.GaussianProcess.DataPoints.Count\n",
    "    let mutable updatedCovariance : Matrix<double> = Matrix<double>.Build.Dense(size, size) \n",
    "\n",
    "    for rowIdx in 0..(model.GaussianProcess.CovarianceMatrix.RowCount - 1) do\n",
    "        for columnIdx in 0..(model.GaussianProcess.CovarianceMatrix.ColumnCount - 1) do\n",
    "            updatedCovariance[rowIdx, columnIdx] <- model.GaussianProcess.CovarianceMatrix.[rowIdx, columnIdx]\n",
    "\n",
    "    for runnerIdx in 0..(size - 1) do\n",
    "        let value : double = gaussianKernelCompute model.GaussianProcess.Kernel model.GaussianProcess.DataPoints.[runnerIdx].X dataPoint.X\n",
    "        updatedCovariance[runnerIdx, size - 1] <- value\n",
    "        updatedCovariance[size - 1, runnerIdx] <- value\n",
    "    \n",
    "    updatedCovariance[size - 1, size - 1] <- gaussianKernelCompute model.GaussianProcess.Kernel dataPoint.X dataPoint.X\n",
    "    updatedCovariance.MapInplace(fun q -> Math.Round(q, 5))\n",
    "    model.GaussianProcess.CovarianceMatrix <- updatedCovariance\n",
    "\n",
    "let addDataPointViaProcess (gaussianProcess : GaussianProcess) (dataPoint : DataPoint) : unit =\n",
    "\n",
    "    gaussianProcess.DataPoints.Add dataPoint\n",
    "\n",
    "    let size : int = gaussianProcess.DataPoints.Count\n",
    "    let mutable updatedCovariance : Matrix<double> = Matrix<double>.Build.Dense(size, size) \n",
    "\n",
    "    for rowIdx in 0..(gaussianProcess.CovarianceMatrix.RowCount - 1) do\n",
    "        for columnIdx in 0..(gaussianProcess.CovarianceMatrix.ColumnCount - 1) do\n",
    "            updatedCovariance[rowIdx, columnIdx] <- gaussianProcess.CovarianceMatrix.[rowIdx, columnIdx]\n",
    "\n",
    "    for runnerIdx in 0..(size - 1) do\n",
    "        let value : double = gaussianKernelCompute gaussianProcess.Kernel gaussianProcess.DataPoints.[runnerIdx].X dataPoint.X\n",
    "        updatedCovariance[runnerIdx, size - 1] <- value\n",
    "        updatedCovariance[size - 1, runnerIdx] <- value\n",
    "    \n",
    "    updatedCovariance[size - 1, size - 1] <- gaussianKernelCompute gaussianProcess.Kernel dataPoint.X dataPoint.X\n",
    "    updatedCovariance.MapInplace(fun q -> Math.Round(q, 5))\n",
    "    gaussianProcess.CovarianceMatrix <- updatedCovariance"
   ]
  },
  {
   "cell_type": "code",
   "execution_count": null,
   "metadata": {
    "dotnet_interactive": {
     "language": "fsharp"
    },
    "polyglot_notebook": {
     "kernelName": "fsharp"
    }
   },
   "outputs": [],
   "source": [
    "let createModel (gaussianProcess  : GaussianProcess) \n",
    "                (query            : double -> double) \n",
    "                (min              : double) \n",
    "                (max              : double)\n",
    "                (resolution       : int) : GaussianModel = \n",
    "\n",
    "    // Random Uniform Initialization of Inputs.\n",
    "    let inputs : List<double> = (seq { for i in 0 .. resolution do i }\n",
    "                                |> Seq.map(fun idx -> min + double idx * (max - min) / (double resolution - 1.))).ToList()\n",
    "    { GaussianProcess = gaussianProcess; Query = query; Inputs = inputs }"
   ]
  },
  {
   "cell_type": "code",
   "execution_count": null,
   "metadata": {
    "dotnet_interactive": {
     "language": "fsharp"
    },
    "polyglot_notebook": {
     "kernelName": "fsharp"
    }
   },
   "outputs": [],
   "source": [
    "let findExtrema (gaussianModel : GaussianModel) (goal : Goal) (iterations : int) : ModelResult = \n",
    "    addDataPointViaProcess gaussianModel.GaussianProcess { X = gaussianModel.Inputs.[0]; Y = gaussianModel.Query gaussianModel.Inputs.[0] }\n",
    "    addDataPointViaProcess gaussianModel.GaussianProcess { X = gaussianModel.Inputs.Last(); Y = gaussianModel.Query ( gaussianModel.Inputs.Last() )}\n",
    "\n",
    "    for iterationIdx in 0..(iterations - 1) do\n",
    "\n",
    "        // Acquire next data point to explore.\n",
    "        let nextPointToExplore : double = \n",
    "            // Find the data point that maximizes the acquisition function.\n",
    "            let estimatedAtRange : List<EstimationResult> = estimateAtRange gaussianModel.GaussianProcess gaussianModel.Inputs\n",
    "            let maxAcquisition   : List<AcquistionFunctionResult> = estimatedAtRange.Select(fun e -> (expectedImprovement gaussianModel.GaussianProcess e goal)).ToList()\n",
    "            let maxVal = maxAcquisition.MaxBy(fun e -> e.Y)\n",
    "            maxVal.X\n",
    "\n",
    "        if gaussianModel.GaussianProcess.DataPoints.Any(fun d -> d.X = nextPointToExplore) then ()        \n",
    "        else \n",
    "        addDataPoint gaussianModel { X = nextPointToExplore; Y = gaussianModel.Query ( nextPointToExplore )}\n",
    "\n",
    "    let estimationResult : List<EstimationResult> = estimateAtRange gaussianModel.GaussianProcess gaussianModel.Inputs\n",
    "\n",
    "    {\n",
    "        Input                    = gaussianModel.GaussianProcess.DataPoints\n",
    "        AcquistionFunctionResult = estimationResult.Select(fun e -> expectedImprovement gaussianModel.GaussianProcess e goal).ToList() \n",
    "        EstimationResult         = estimationResult \n",
    "    }"
   ]
  },
  {
   "attachments": {},
   "cell_type": "markdown",
   "metadata": {
    "dotnet_interactive": {
     "language": "fsharp"
    },
    "polyglot_notebook": {
     "kernelName": "fsharp"
    }
   },
   "source": [
    "## Tests"
   ]
  },
  {
   "attachments": {},
   "cell_type": "markdown",
   "metadata": {
    "dotnet_interactive": {
     "language": "fsharp"
    },
    "polyglot_notebook": {
     "kernelName": "fsharp"
    }
   },
   "source": [
    "### E2E Test"
   ]
  },
  {
   "cell_type": "code",
   "execution_count": null,
   "metadata": {
    "dotnet_interactive": {
     "language": "fsharp"
    },
    "polyglot_notebook": {
     "kernelName": "fsharp"
    }
   },
   "outputs": [],
   "source": [
    "open MathNet.Numerics\n",
    "\n",
    "let test_model() : GaussianModel =\n",
    "    let gaussianProcess : GaussianProcess = \n",
    "        { \n",
    "            Kernel           = { LengthScale = 0.1; Variance = 1 }\n",
    "            DataPoints       = List<DataPoint>()\n",
    "            CovarianceMatrix = Matrix<double>.Build.Dense(1, 1)\n",
    "        }\n",
    "\n",
    "    createModel gaussianProcess Trig.Sin -Math.PI Math.PI 300 "
   ]
  },
  {
   "cell_type": "code",
   "execution_count": null,
   "metadata": {
    "dotnet_interactive": {
     "language": "fsharp"
    },
    "polyglot_notebook": {
     "kernelName": "fsharp"
    }
   },
   "outputs": [],
   "source": [
    "open System\n",
    "open System.Linq\n",
    "open System.Collections.Generic\n",
    "open MathNet.Numerics.LinearAlgebra\n",
    "open MathNet.Numerics\n",
    "open System.Diagnostics\n",
    "\n",
    "[<Literal>]\n",
    "let workload : string = @\"C:\\Users\\mukun\\source\\repos\\FSharpAdvent_2022\\src\\Workloads\\SimpleWorkload_1\\bin\\Debug\\net7.0\\SimpleWorkload_1.exe\"\n",
    "\n",
    "let query(input : double) : double = \n",
    "\n",
    "    let p = new Process()\n",
    "    p.StartInfo.FileName        <- workload\n",
    "    p.StartInfo.UseShellExecute <- false\n",
    "    p.StartInfo.Arguments       <- $\"--input {input}\"\n",
    "\n",
    "    let stopWatch = Stopwatch()\n",
    "    stopWatch.Start()\n",
    "\n",
    "    p.Start()       |> ignore\n",
    "    p.WaitForExit() |> ignore\n",
    "\n",
    "    p.Dispose()\n",
    "\n",
    "    stopWatch.Stop()\n",
    "\n",
    "    double stopWatch.ElapsedMilliseconds / 1000.\n",
    "\n",
    "let test_model_2nd() : GaussianModel =\n",
    "    let gaussianProcess : GaussianProcess = \n",
    "        { \n",
    "            Kernel           = { LengthScale = 0.1; Variance = 1 }\n",
    "            DataPoints       = List<DataPoint>()\n",
    "            CovarianceMatrix = Matrix<double>.Build.Dense(1, 1)\n",
    "        }\n",
    "\n",
    "    createModel gaussianProcess query 0 10 900 \n",
    "\n",
    "let model = test_model_2nd()\n",
    "let extrema = findExtrema model Goal.Min 40 \n",
    "extrema.Input.Min(fun e -> e.Y)"
   ]
  },
  {
   "attachments": {},
   "cell_type": "markdown",
   "metadata": {
    "dotnet_interactive": {
     "language": "fsharp"
    },
    "polyglot_notebook": {
     "kernelName": "fsharp"
    }
   },
   "source": [
    "### Test Add Point"
   ]
  },
  {
   "cell_type": "code",
   "execution_count": null,
   "metadata": {
    "dotnet_interactive": {
     "language": "fsharp"
    },
    "polyglot_notebook": {
     "kernelName": "fsharp"
    }
   },
   "outputs": [],
   "source": [
    "let gaussianProcess : GaussianProcess = \n",
    "    { \n",
    "        Kernel           = { LengthScale = 1; Variance = 1 }\n",
    "        DataPoints       = List<DataPoint>()\n",
    "        CovarianceMatrix = Matrix<double>.Build.Dense(1, 1)\n",
    "    }\n",
    "addDataPointViaProcess gaussianProcess { X = 1.02; Y = 0.79 }\n",
    "addDataPointViaProcess gaussianProcess { X = 1.99; Y = 0.94 }\n",
    "addDataPointViaProcess gaussianProcess { X = 4.04; Y = 0.65 }\n",
    "\n",
    "for i in 0..gaussianProcess.CovarianceMatrix.RowCount - 1 do\n",
    "    for j in 0..gaussianProcess.CovarianceMatrix.ColumnCount - 1 do\n",
    "        printfn \"i: %A | j: %A = %A\" i j gaussianProcess.CovarianceMatrix.[i, j]\n",
    "\n",
    "gaussianProcess.CovarianceMatrix.ToArray()"
   ]
  },
  {
   "attachments": {},
   "cell_type": "markdown",
   "metadata": {
    "dotnet_interactive": {
     "language": "fsharp"
    },
    "polyglot_notebook": {
     "kernelName": "fsharp"
    }
   },
   "source": [
    "### Estimate At Point Tests"
   ]
  },
  {
   "cell_type": "code",
   "execution_count": null,
   "metadata": {
    "dotnet_interactive": {
     "language": "fsharp"
    },
    "polyglot_notebook": {
     "kernelName": "fsharp"
    }
   },
   "outputs": [],
   "source": [
    "let gaussianProcess : GaussianProcess = \n",
    "    { \n",
    "        Kernel           = { LengthScale = 1; Variance = 1 }\n",
    "        DataPoints       = List<DataPoint>()\n",
    "        CovarianceMatrix = Matrix<double>.Build.Dense(1, 1)\n",
    "    }\n",
    "\n",
    "addDataPointViaProcess gaussianProcess { X = 1.02; Y = 0.79 }\n",
    "addDataPointViaProcess gaussianProcess { X = 1.99; Y = 0.94 }\n",
    "addDataPointViaProcess gaussianProcess { X = 4.04; Y = 0.65 }\n",
    "\n",
    "estimateAtPoint gaussianProcess 3."
   ]
  },
  {
   "attachments": {},
   "cell_type": "markdown",
   "metadata": {
    "dotnet_interactive": {
     "language": "fsharp"
    },
    "polyglot_notebook": {
     "kernelName": "fsharp"
    }
   },
   "source": [
    "### Estimate At Range Tests"
   ]
  },
  {
   "cell_type": "code",
   "execution_count": null,
   "metadata": {
    "dotnet_interactive": {
     "language": "fsharp"
    },
    "polyglot_notebook": {
     "kernelName": "fsharp"
    }
   },
   "outputs": [],
   "source": [
    "let gaussianProcess : GaussianProcess = \n",
    "    { \n",
    "        Kernel           = { LengthScale = 1; Variance = 1 }\n",
    "        DataPoints       = List<DataPoint>()\n",
    "        CovarianceMatrix = Matrix<double>.Build.Dense(1, 1)\n",
    "    }\n",
    "addDataPointViaProcess gaussianProcess { X = 1.02; Y = 0.79 }\n",
    "addDataPointViaProcess gaussianProcess { X = 1.99; Y = 0.94 }\n",
    "addDataPointViaProcess gaussianProcess { X = 4.04; Y = 0.65 }\n",
    "\n",
    "let list = List<double>()\n",
    "list.Add(1.02)\n",
    "list.Add(1.775)\n",
    "list.Add(2.530)\n",
    "list.Add(3.285)\n",
    "list.Add(4.04)\n",
    "estimateAtRange gaussianProcess list"
   ]
  },
  {
   "cell_type": "code",
   "execution_count": null,
   "metadata": {
    "dotnet_interactive": {
     "language": "fsharp"
    },
    "polyglot_notebook": {
     "kernelName": "fsharp"
    }
   },
   "outputs": [],
   "source": [
    "System.Diagnostics.Process.GetCurrentProcess().Id.Display()\n",
    "\n",
    "#!about"
   ]
  }
 ],
 "metadata": {
  "kernelspec": {
   "display_name": ".NET (C#)",
   "language": "C#",
   "name": ".net-csharp"
  },
  "polyglot_notebook": {
   "kernelInfo": {
    "defaultKernelName": "csharp",
    "items": [
     {
      "aliases": [
       "c#",
       "C#"
      ],
      "languageName": "C#",
      "name": "csharp"
     },
     {
      "aliases": [
       "frontend"
      ],
      "languageName": null,
      "name": "vscode"
     },
     {
      "aliases": [],
      "languageName": null,
      "name": ".NET"
     },
     {
      "aliases": [
       "f#",
       "F#"
      ],
      "languageName": "F#",
      "name": "fsharp"
     },
     {
      "aliases": [],
      "languageName": "HTML",
      "name": "html"
     },
     {
      "aliases": [
       "js"
      ],
      "languageName": "JavaScript",
      "name": "javascript"
     },
     {
      "aliases": [],
      "languageName": "KQL",
      "name": "kql"
     },
     {
      "aliases": [],
      "languageName": "Mermaid",
      "name": "mermaid"
     },
     {
      "aliases": [
       "powershell"
      ],
      "languageName": "PowerShell",
      "name": "pwsh"
     },
     {
      "aliases": [],
      "languageName": "SQL",
      "name": "sql"
     },
     {
      "aliases": [],
      "name": "value"
     },
     {
      "aliases": [],
      "name": "webview"
     }
    ]
   }
  }
 },
 "nbformat": 4,
 "nbformat_minor": 2
}
