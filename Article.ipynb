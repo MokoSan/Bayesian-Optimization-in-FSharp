{
 "cells": [
  {
   "attachments": {},
   "cell_type": "markdown",
   "metadata": {
    "dotnet_interactive": {
     "language": "csharp"
    }
   },
   "source": [
    "# FSharp Tooling for Performance Analysis and Optimization "
   ]
  },
  {
   "attachments": {},
   "cell_type": "markdown",
   "metadata": {
    "dotnet_interactive": {
     "language": "csharp"
    },
    "polyglot_notebook": {
     "kernelName": "csharp"
    }
   },
   "source": [
    "## Introduction\n",
    "\n",
    "### Goal\n",
    "\n",
    "To develop an algorithm that'll help us choose the most optimum parameters based on a select criterion. This primary goal implies the need for infrastructure that'll help facilitate getting to the most optimal criterion.\n",
    "\n",
    "#### Example\n",
    "\n",
    "#### ETW Events\n",
    "\n",
    "#### Bayesian Optimization"
   ]
  },
  {
   "attachments": {},
   "cell_type": "markdown",
   "metadata": {
    "dotnet_interactive": {
     "language": "csharp"
    },
    "polyglot_notebook": {
     "kernelName": "csharp"
    }
   },
   "source": [
    "### Gaussian Processes"
   ]
  },
  {
   "attachments": {},
   "cell_type": "markdown",
   "metadata": {
    "dotnet_interactive": {
     "language": "csharp"
    },
    "polyglot_notebook": {
     "kernelName": "csharp"
    }
   },
   "source": [
    "### Squared Exponential Kernel\n",
    "\n",
    "https://peterroelants.github.io/posts/gaussian-process-kernels/#Exponentiated-quadratic-kernel"
   ]
  },
  {
   "attachments": {},
   "cell_type": "markdown",
   "metadata": {
    "dotnet_interactive": {
     "language": "csharp"
    },
    "polyglot_notebook": {
     "kernelName": "csharp"
    }
   },
   "source": [
    "## References\n",
    "\n",
    "1. [Gaussian Processes](http://krasserm.github.io/2018/03/19/gaussian-processes/)\n",
    "2. [Bayesian Optimization From Scratch](https://machinelearningmastery.com/what-is-bayesian-optimization/)\n",
    "3. [Gaussian Processes for Dummies](http://katbailey.github.io/post/gaussian-processes-for-dummies/)"
   ]
  },
  {
   "attachments": {},
   "cell_type": "markdown",
   "metadata": {
    "dotnet_interactive": {
     "language": "csharp"
    },
    "polyglot_notebook": {
     "kernelName": "csharp"
    }
   },
   "source": [
    "## TODO\n",
    "\n",
    "1. ~~Test out model on a simple Sin function as the objective.~~\n",
    "2. ~~Create a simple command line app that easily helps us reach some extrema.~~\n",
    "3. Start working on the infrastructure that orchestrates runs.\n",
    "   1. Criteria:\n",
    "      1. ~~Execution Time~~\n",
    "      2. Some Aggregate Trace Property\n",
    "4. Adding Discrete Bayesian Optimization.\n",
    "5. Abstracting Out The Kernel Method.\n",
    "6. Visualization.\n",
    "7. Unit Tests.\n",
    "8. Clean up main logic. \n",
    "   1. Possibly add computation expressions."
   ]
  }
 ],
 "metadata": {
  "kernelspec": {
   "display_name": ".NET (C#)",
   "language": "C#",
   "name": ".net-csharp"
  },
  "polyglot_notebook": {
   "kernelInfo": {
    "defaultKernelName": "csharp",
    "items": [
     {
      "aliases": [
       "c#",
       "C#"
      ],
      "languageName": "C#",
      "name": "csharp"
     },
     {
      "aliases": [
       "frontend"
      ],
      "name": "vscode"
     },
     {
      "aliases": [],
      "name": ".NET"
     },
     {
      "aliases": [
       "f#",
       "F#"
      ],
      "languageName": "F#",
      "name": "fsharp"
     },
     {
      "aliases": [],
      "languageName": "HTML",
      "name": "html"
     },
     {
      "aliases": [
       "js"
      ],
      "languageName": "JavaScript",
      "name": "javascript"
     },
     {
      "aliases": [],
      "languageName": "KQL",
      "name": "kql"
     },
     {
      "aliases": [],
      "languageName": "Mermaid",
      "name": "mermaid"
     },
     {
      "aliases": [
       "powershell"
      ],
      "languageName": "PowerShell",
      "name": "pwsh"
     },
     {
      "aliases": [],
      "languageName": "SQL",
      "name": "sql"
     },
     {
      "aliases": [],
      "name": "value"
     },
     {
      "aliases": [],
      "name": "webview"
     }
    ]
   }
  }
 },
 "nbformat": 4,
 "nbformat_minor": 2
}
