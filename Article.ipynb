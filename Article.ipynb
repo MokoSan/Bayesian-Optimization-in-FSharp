{
 "cells": [
  {
   "attachments": {},
   "cell_type": "markdown",
   "metadata": {
    "dotnet_interactive": {
     "language": "csharp"
    }
   },
   "source": [
    "# Using Bayesian Optimization For Performance Tuning in FSharp"
   ]
  },
  {
   "attachments": {},
   "cell_type": "markdown",
   "metadata": {
    "dotnet_interactive": {
     "language": "csharp"
    },
    "polyglot_notebook": {
     "kernelName": "csharp"
    }
   },
   "source": [
    "## Introduction\n",
    "\n",
    "### Goal\n",
    "\n",
    "The goal is to develop an algorithm that'll help us choose the most optimum parameters based on a select criterion. \n",
    "\n",
    "#### Example\n",
    "\n",
    "\n",
    "#### Bayesian Optimization\n",
    "\n",
    "#### ETW Events\n",
    "\n",
    "### Gaussian Processes\n",
    "\n",
    "#### Squared Exponential Kernel\n",
    "\n",
    "https://peterroelants.github.io/posts/gaussian-process-kernels/#Exponentiated-quadratic-kernel"
   ]
  },
  {
   "attachments": {},
   "cell_type": "markdown",
   "metadata": {
    "dotnet_interactive": {
     "language": "csharp"
    },
    "polyglot_notebook": {
     "kernelName": "csharp"
    }
   },
   "source": [
    "## Usage of FSharp's Features\n",
    "\n",
    "1. Domain Modeling\n",
    "2. Partial Application\n",
    "3. Type Aliasing\n",
    "4. Pattern Matching\n",
    "5. Conditional Mutability\n",
    "6. Async and Seq Computational Expressions"
   ]
  },
  {
   "attachments": {},
   "cell_type": "markdown",
   "metadata": {
    "dotnet_interactive": {
     "language": "csharp"
    },
    "polyglot_notebook": {
     "kernelName": "csharp"
    }
   },
   "source": [
    "## References\n",
    "\n",
    "1. [Gaussian Processes](http://krasserm.github.io/2018/03/19/gaussian-processes/)\n",
    "2. [Bayesian Optimization From Scratch](https://machinelearningmastery.com/what-is-bayesian-optimization/)\n",
    "3. [Gaussian Processes for Dummies](http://katbailey.github.io/post/gaussian-processes-for-dummies/)"
   ]
  },
  {
   "attachments": {},
   "cell_type": "markdown",
   "metadata": {
    "dotnet_interactive": {
     "language": "csharp"
    },
    "polyglot_notebook": {
     "kernelName": "csharp"
    }
   },
   "source": [
    "## TODO\n",
    "\n",
    "1. ~~Test out model on a simple Sin function as the objective.~~\n",
    "2. ~~Create a simple command line app that easily helps us reach some extrema.~~\n",
    "3. ~~Start working on the infrastructure that orchestrates runs.~~\n",
    "   1. ~~Criteria:~~\n",
    "      1. ~~Execution Time~~\n",
    "      2. ~~Some Aggregate Trace Property~~\n",
    "4. ~~Adding Discrete Bayesian Optimization.~~\n",
    "   ~~1. Add the case where we don't try out values we have tried before.~~\n",
    "5. ~~Abstracting Out The Kernel Method.~~ \n",
    "6. Abstracting Out The Acquisition Function.\n",
    "7. Visualization.\n",
    "   1. Save plot as png.\n",
    "   2. Creating Gif Out Of Iterations.\n",
    "8. Creating Notebooks:\n",
    "   1. Sin Function.\n",
    "   2. Simple Workload.\n",
    "   3. Heap Count Optimization.\n",
    "   4. CPU Sample Counting.\n",
    "9.  Unit Tests.\n",
    "10. Clean up main logic. \n",
    "   1. Possibly add computation expressions."
   ]
  }
 ],
 "metadata": {
  "kernelspec": {
   "display_name": ".NET (C#)",
   "language": "C#",
   "name": ".net-csharp"
  },
  "polyglot_notebook": {
   "kernelInfo": {
    "defaultKernelName": "csharp",
    "items": [
     {
      "aliases": [
       "c#",
       "C#"
      ],
      "languageName": "C#",
      "name": "csharp"
     },
     {
      "aliases": [
       "frontend"
      ],
      "name": "vscode"
     },
     {
      "aliases": [],
      "name": ".NET"
     },
     {
      "aliases": [
       "f#",
       "F#"
      ],
      "languageName": "F#",
      "name": "fsharp"
     },
     {
      "aliases": [],
      "languageName": "HTML",
      "name": "html"
     },
     {
      "aliases": [
       "js"
      ],
      "languageName": "JavaScript",
      "name": "javascript"
     },
     {
      "aliases": [],
      "languageName": "KQL",
      "name": "kql"
     },
     {
      "aliases": [],
      "languageName": "Mermaid",
      "name": "mermaid"
     },
     {
      "aliases": [
       "powershell"
      ],
      "languageName": "PowerShell",
      "name": "pwsh"
     },
     {
      "aliases": [],
      "languageName": "SQL",
      "name": "sql"
     },
     {
      "aliases": [],
      "name": "value"
     },
     {
      "aliases": [],
      "name": "webview"
     }
    ]
   }
  }
 },
 "nbformat": 4,
 "nbformat_minor": 2
}
