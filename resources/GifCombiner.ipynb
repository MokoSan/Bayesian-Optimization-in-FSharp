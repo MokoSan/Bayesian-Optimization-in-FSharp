{
 "cells": [
  {
   "cell_type": "code",
   "execution_count": 1,
   "metadata": {
    "dotnet_interactive": {
     "language": "fsharp"
    },
    "polyglot_notebook": {
     "kernelName": "fsharp"
    }
   },
   "outputs": [
    {
     "data": {
      "text/html": [
       "<div><div></div><div></div><div><strong>Installed Packages</strong><ul><li><span>Magick.NET-Q16-x64, 12.2.2</span></li></ul></div></div>"
      ]
     },
     "metadata": {},
     "output_type": "display_data"
    }
   ],
   "source": [
    "#r \"nuget: Magick.NET-Q16-x64\"\n",
    "\n",
    "open ImageMagick"
   ]
  },
  {
   "cell_type": "code",
   "execution_count": 9,
   "metadata": {
    "dotnet_interactive": {
     "language": "fsharp"
    },
    "polyglot_notebook": {
     "kernelName": "fsharp"
    }
   },
   "outputs": [],
   "source": [
    "let createGif (allImages : string seq) (gifSavePath: string) : unit = \n",
    "    use images : MagickImageCollection = new MagickImageCollection()\n",
    "    allImages\n",
    "    |> Seq.iter(fun path -> (\n",
    "        let image : MagickImage = new MagickImage(path)\n",
    "        let size : MagickGeometry = MagickGeometry(600, 600);\n",
    "        image.Resize(size) |> ignore\n",
    "        // Overwrite path.\n",
    "        image.Write(path) |> ignore\n",
    "        images.Add(image)\n",
    "        images.[images.Count - 1].AnimationDelay <- 100\n",
    "    ))\n",
    "\n",
    "    // Delay the last iteration to underscore the optima.\n",
    "    images.[images.Count - 1].AnimationDelay <- 500\n",
    "\n",
    "    images.Optimize() |> ignore\n",
    "    images.Write(gifSavePath)"
   ]
  },
  {
   "cell_type": "code",
   "execution_count": 10,
   "metadata": {
    "dotnet_interactive": {
     "language": "fsharp"
    },
    "polyglot_notebook": {
     "kernelName": "fsharp"
    }
   },
   "outputs": [
    {
     "ename": "Error",
     "evalue": "ImageMagick.MagickOptionErrorException: images are not the same size `./Loop_1.png' @ error/layer.c/OptimizeLayerFrames/995\r\n   at ImageMagick.MagickImageCollection.NativeMagickImageCollection.Optimize(IMagickImage image) in /_/src/Magick.NET/Native/MagickImageCollection.cs:line 569\r\n   at ImageMagick.MagickImageCollection.Optimize() in /_/src/Magick.NET/MagickImageCollection.cs:line 809\r\n   at FSI_0013.createGif(IEnumerable`1 allImages, String gifSavePath)\r\n   at <StartupCode$FSI_0014>.$FSI_0014.main@()\r\n   at System.RuntimeMethodHandle.InvokeMethod(Object target, Void** arguments, Signature sig, Boolean isConstructor)\r\n   at System.Reflection.MethodInvoker.Invoke(Object obj, IntPtr* args, BindingFlags invokeAttr)",
     "output_type": "error",
     "traceback": [
      "ImageMagick.MagickOptionErrorException: images are not the same size `./Loop_1.png' @ error/layer.c/OptimizeLayerFrames/995\r\n",
      "   at ImageMagick.MagickImageCollection.NativeMagickImageCollection.Optimize(IMagickImage image) in /_/src/Magick.NET/Native/MagickImageCollection.cs:line 569\r\n",
      "   at ImageMagick.MagickImageCollection.Optimize() in /_/src/Magick.NET/MagickImageCollection.cs:line 809\r\n",
      "   at FSI_0013.createGif(IEnumerable`1 allImages, String gifSavePath)\r\n",
      "   at <StartupCode$FSI_0014>.$FSI_0014.main@()\r\n",
      "   at System.RuntimeMethodHandle.InvokeMethod(Object target, Void** arguments, Signature sig, Boolean isConstructor)\r\n",
      "   at System.Reflection.MethodInvoker.Invoke(Object obj, IntPtr* args, BindingFlags invokeAttr)"
     ]
    }
   ],
   "source": [
    "createGif [ \"./FullLoop_1.png\"; \"./FullLoop_2.png\"; \"./FullLoop_3.png\"; \"./FullLoop_4.png\" ] \"./FullLoop.gif\""
   ]
  }
 ],
 "metadata": {
  "kernelspec": {
   "display_name": ".NET (C#)",
   "language": "C#",
   "name": ".net-csharp"
  },
  "polyglot_notebook": {
   "kernelInfo": {
    "defaultKernelName": "csharp",
    "items": [
     {
      "aliases": [],
      "name": "csharp"
     },
     {
      "aliases": [],
      "languageName": null,
      "name": ".NET"
     },
     {
      "aliases": [
       "frontend"
      ],
      "languageName": null,
      "name": "vscode"
     }
    ]
   }
  }
 },
 "nbformat": 4,
 "nbformat_minor": 2
}
