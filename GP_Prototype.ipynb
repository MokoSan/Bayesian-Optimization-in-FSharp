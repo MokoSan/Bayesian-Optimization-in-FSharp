{
 "cells": [
  {
   "cell_type": "code",
   "execution_count": 10,
   "metadata": {
    "dotnet_interactive": {
     "language": "fsharp"
    }
   },
   "outputs": [
    {
     "data": {
      "text/html": [
       "<div><div></div><div></div><div><strong>Installed Packages</strong><ul><li><span>MathNet.Numerics, 5.0.0</span></li></ul></div></div>"
      ]
     },
     "metadata": {},
     "output_type": "display_data"
    }
   ],
   "source": [
    "#r \"nuget: MathNet.Numerics\"\n",
    "\n",
    "open System.Linq;\n",
    "open System.Collections.Generic\n",
    "open System.Collections;\n",
    "open MathNet.Numerics.LinearAlgebra\n",
    "open MathNet.Numerics.Distributions"
   ]
  },
  {
   "attachments": {},
   "cell_type": "markdown",
   "metadata": {
    "dotnet_interactive": {
     "language": "fsharp"
    },
    "polyglot_notebook": {
     "kernelName": "fsharp"
    }
   },
   "source": [
    "## Domain"
   ]
  },
  {
   "cell_type": "code",
   "execution_count": 11,
   "metadata": {
    "dotnet_interactive": {
     "language": "fsharp"
    },
    "polyglot_notebook": {
     "kernelName": "fsharp"
    }
   },
   "outputs": [],
   "source": [
    "type Goal = \n",
    "    | Max\n",
    "    | Min\n",
    "\n",
    "type GaussianKernel = { LengthScale : double; Variance : double }\n",
    "type DataPoint      = { X : double; Y : double }\n",
    "type GaussianProcess = \n",
    "    { \n",
    "        Kernel: GaussianKernel\n",
    "        DataPoints: List<DataPoint>\n",
    "        CovarianceMatrix: Matrix<double>\n",
    "    }\n",
    "\n",
    "type AcquistionFunctionResult = { X : double; Y : double }\n",
    "\n",
    "type EstimationResult =\n",
    "    { \n",
    "        Mean       : double\n",
    "        LowerBound : double\n",
    "        UpperBound : double\n",
    "        X          : double\n",
    "    }\n",
    "\n",
    "type GaussianModel =\n",
    "    {\n",
    "        GaussianProcess : GaussianProcess \n",
    "        Query           : double -> double\n",
    "        Inputs          : double list\n",
    "    }\n",
    "\n",
    "type ModelResult = \n",
    "    { \n",
    "        AcquistionFunctionResult : AcquistionFunctionResult\n",
    "        EstimationResult         : EstimationResult\n",
    "        DataPoint                : DataPoint\n",
    "    }"
   ]
  },
  {
   "attachments": {},
   "cell_type": "markdown",
   "metadata": {
    "dotnet_interactive": {
     "language": "fsharp"
    },
    "polyglot_notebook": {
     "kernelName": "fsharp"
    }
   },
   "source": [
    "## Functions"
   ]
  },
  {
   "attachments": {},
   "cell_type": "markdown",
   "metadata": {
    "dotnet_interactive": {
     "language": "fsharp"
    },
    "polyglot_notebook": {
     "kernelName": "fsharp"
    }
   },
   "source": [
    "### Kernel "
   ]
  },
  {
   "cell_type": "code",
   "execution_count": 12,
   "metadata": {
    "dotnet_interactive": {
     "language": "fsharp"
    },
    "polyglot_notebook": {
     "kernelName": "fsharp"
    }
   },
   "outputs": [],
   "source": [
    "// Kernel Method.\n",
    "let gaussianKernelCompute (kernel: GaussianKernel) (left : double) (right : double) : double  = \n",
    "    if left = right then kernel.Variance\n",
    "    else \n",
    "        let squareDistance : double = Math.Pow( left - right, 2 )\n",
    "        kernel.Variance * Math.Exp( -squareDistance / ( kernel.Variance * kernel.Variance ))"
   ]
  },
  {
   "attachments": {},
   "cell_type": "markdown",
   "metadata": {
    "dotnet_interactive": {
     "language": "fsharp"
    },
    "polyglot_notebook": {
     "kernelName": "fsharp"
    }
   },
   "source": [
    "### Addition of New Data Points and Estimation of the Posterior"
   ]
  },
  {
   "cell_type": "code",
   "execution_count": 4,
   "metadata": {
    "dotnet_interactive": {
     "language": "fsharp"
    },
    "polyglot_notebook": {
     "kernelName": "fsharp"
    }
   },
   "outputs": [
    {
     "ename": "Error",
     "evalue": "input.fsx (7,5)-(7,33) typecheck error This expression was expected to have type\n    'unit'    \nbut here has type\n    ''a list'    ",
     "output_type": "error",
     "traceback": [
      "input.fsx (7,5)-(7,33) typecheck error This expression was expected to have type\n",
      "    'unit'    \n",
      "but here has type\n",
      "    ''a list'    "
     ]
    }
   ],
   "source": [
    "// Add New Data Point.\n",
    "//let addNewDataPoint (gaussianProcess : GaussianProcess) (dataPoint : DataPoint) : unit = "
   ]
  },
  {
   "cell_type": "code",
   "execution_count": 13,
   "metadata": {
    "dotnet_interactive": {
     "language": "fsharp"
    }
   },
   "outputs": [],
   "source": [
    "// Estimation Method.\n",
    "let estimateAtPoint (gaussianProcess : GaussianProcess) (x : double) : EstimationResult = \n",
    "    let kStar : double array = \n",
    "        gaussianProcess.DataPoints\n",
    "                       .Select(fun dp -> gaussianKernelCompute gaussianProcess.Kernel dp.X dp.Y)\n",
    "                       .ToArray()\n",
    "\n",
    "    let yTrain : double array = \n",
    "        gaussianProcess.DataPoints\n",
    "                       .Select(fun dp -> dp.Y)\n",
    "                       .ToArray()\n",
    "\n",
    "    let ks         : Vector<double> = Vector<double>.Build.Dense kStar\n",
    "    let f          : Vector<double> = Vector<double>.Build.Dense yTrain\n",
    "    let common     : Vector<double> = gaussianProcess.CovarianceMatrix.Inverse().Multiply ks\n",
    "    let mu         : double         = common.DotProduct f\n",
    "    let confidence : double     = Math.Abs(-common.DotProduct ks + gaussianKernelCompute gaussianProcess.Kernel x x)\n",
    "    { Mean = mu; LowerBound = mu - confidence; UpperBound = mu + confidence; X = x }"
   ]
  },
  {
   "cell_type": "code",
   "execution_count": 14,
   "metadata": {
    "dotnet_interactive": {
     "language": "fsharp"
    },
    "polyglot_notebook": {
     "kernelName": "fsharp"
    }
   },
   "outputs": [],
   "source": [
    "// Based on each subsequent iteration, we compute the next query point by referring to the surrogate function \n",
    "// that produces the highest acquisition value.\n",
    "let estimateAtRange (gaussianProcess : GaussianProcess) (X : double list) : EstimationResult list =\n",
    "    let result = X |> List.map(fun x -> estimateAtPoint gaussianProcess x)\n",
    "    result"
   ]
  },
  {
   "attachments": {},
   "cell_type": "markdown",
   "metadata": {
    "dotnet_interactive": {
     "language": "fsharp"
    },
    "polyglot_notebook": {
     "kernelName": "fsharp"
    }
   },
   "source": [
    "### Acquisition"
   ]
  },
  {
   "cell_type": "code",
   "execution_count": 16,
   "metadata": {
    "dotnet_interactive": {
     "language": "fsharp"
    },
    "polyglot_notebook": {
     "kernelName": "fsharp"
    }
   },
   "outputs": [],
   "source": [
    "// Acquisition Method.\n",
    "let expectedImprovement (gaussianProcess : GaussianProcess) \n",
    "                        (estimationResult : EstimationResult) \n",
    "                        (goal : Goal) : AcquistionFunctionResult = \n",
    "    // TODO: Improve this logic by keeping score of the max / min based on the goal.\n",
    "    let bestValue : DataPoint = \n",
    "        match goal with\n",
    "        | Goal.Max -> gaussianProcess.DataPoints.MaxBy(fun l -> l.Y)\n",
    "        | Goal.Min -> gaussianProcess.DataPoints.MinBy(fun l -> l.Y)\n",
    "\n",
    "    let delta : double = estimationResult.Mean - bestValue.Y\n",
    "    let sigma : double = estimationResult.UpperBound - estimationResult.LowerBound\n",
    "    let z     : double = delta / sigma\n",
    "    let next  : double = delta * Normal.CDF(0, 1, z) + sigma * Normal.PDF(0, 1, z)\n",
    "    { X = estimationResult.X ; Y = Math.Max(next, 0) }"
   ]
  },
  {
   "attachments": {},
   "cell_type": "markdown",
   "metadata": {
    "dotnet_interactive": {
     "language": "fsharp"
    },
    "polyglot_notebook": {
     "kernelName": "fsharp"
    }
   },
   "source": [
    "### Model"
   ]
  },
  {
   "cell_type": "code",
   "execution_count": 17,
   "metadata": {
    "dotnet_interactive": {
     "language": "fsharp"
    },
    "polyglot_notebook": {
     "kernelName": "fsharp"
    }
   },
   "outputs": [
    {
     "ename": "Error",
     "evalue": "input.fsx (13,1)-(13,78) parse warning Possible incorrect indentation: this token is offside of context started at position (13:1). Try indenting this token further or using standard formatting conventions.\ninput.fsx (13,78)-(13,78) parse warning Possible incorrect indentation: this token is offside of context started at position (13:1). Try indenting this token further or using standard formatting conventions.\ninput.fsx (13,1)-(13,78) parse error Incomplete structured construct at or before this point in binding",
     "output_type": "error",
     "traceback": [
      "input.fsx (13,1)-(13,78) parse warning Possible incorrect indentation: this token is offside of context started at position (13:1). Try indenting this token further or using standard formatting conventions.\n",
      "input.fsx (13,78)-(13,78) parse warning Possible incorrect indentation: this token is offside of context started at position (13:1). Try indenting this token further or using standard formatting conventions.\n",
      "input.fsx (13,1)-(13,78) parse error Incomplete structured construct at or before this point in binding"
     ]
    }
   ],
   "source": [
    "let createModel (gaussianProcess  : GaussianProcess) \n",
    "                (query            : double -> double) \n",
    "                (min              : double) \n",
    "                (max              : double)\n",
    "                (iterations: int) : GaussianModel = \n",
    "\n",
    "    // Random Initialization of Inputs.\n",
    "    let inputs : double list = seq { for i in 0 .. iterations -> 0 } \n",
    "                               |> Seq.mapi(fun d i -> min + double i * (max - min) / (double iterations - 1.))\n",
    "                               |> Seq.toList\n",
    "    { GaussianProcess = gaussianProcess; Query = query; Inputs = inputs }\n",
    "\n",
    "let findExtrema (gaussianModel : GaussianModel) (goal : Goal) : ModelResult ="
   ]
  },
  {
   "attachments": {},
   "cell_type": "markdown",
   "metadata": {
    "dotnet_interactive": {
     "language": "fsharp"
    },
    "polyglot_notebook": {
     "kernelName": "fsharp"
    }
   },
   "source": [
    "## References\n",
    "\n",
    "1. [Gaussian Processes](http://krasserm.github.io/2018/03/19/gaussian-processes/)\n",
    "2. [Bayesian Optimization From Scratch](https://machinelearningmastery.com/what-is-bayesian-optimization/)"
   ]
  },
  {
   "cell_type": "code",
   "execution_count": 9,
   "metadata": {
    "dotnet_interactive": {
     "language": "fsharp"
    },
    "polyglot_notebook": {
     "kernelName": "fsharp"
    }
   },
   "outputs": [
    {
     "data": {
      "text/html": [
       "<table><tbody><tr><td><img src=\"data:image/png;base64, iVBORw0KGgoAAAANSUhEUgAAAcgAAAHICAYAAADKoXrqAAAACXBIWXMAAAsTAAALEwEAmpwYAAAAAXNSR0IArs4c6QAAAARnQU1BAACxjwv8YQUAAA5XSURBVHgB7d1frNd1HcfxjyYNwUOUcUbiBaxWbHQbXoNb3dCwrcFNXhyuGmk3XcBWeWG2xUVXFnkFW3rD5pYuvHETug1ucVM3B6vB6DjSYJjhkn6fn2GkrwPn/M7n+/v7eGxMN5nTo5wn38/v+35/7vnejnM3CwBwu5v3FgDgMwQSAAKBBIBAIAEgEEgACAQSAAKBBIBAIAEgEEgACAQSAAKBBIBAIAEgEEgACAQSAAKBBIBAIAEgEEgACAQSAAKBBIBAIAEgEEgACAQSAAKBBIBAIAEgEEgACAQSAAKBBIBAIAEgEEgACAQSAAKBBIBAIAEgEEgACAQSAAKBBIBAIAEgEEgACAQSAAKBBIBAIAEgEEgACAQSAAKBBIBAIAEgEEgACAQSAAKBBIBAIAEgEEgACAQSAAKBBIBAIAEgEEgACAQSAAKBBIBAIAEgEEgACAQSAAKBBIBAIAEgEEgACAQSAAKBBIBAIAEgEEgACAQSAAKBBIBAIAEgEEgACAQSAAKBBIBAIAEgEEgACAQSAAKBBIBAIAEgEEgACAQSAAKBBIBAIAEgEEgACAQSAAKBBIBAIAEgEEgACAQSAAKBBIBAIAEgEEgACAQSAAKBBIBAIAEgEEgACAQSAAKBBIBAIAEgEEgACAQSAAKBBIBAIAEgEEgACAQSAAKBBIBAIAEgEEgACAQSAAKBBIBAIAEgEEgACAQSAAKBBIBAIAEgEEgACAQSAAKBBIBAIAEgEEgACAQSAAKBBIBAIAEgEEgACAQSAAKBBIBAIAEgEEgACAQSAAKBBIBAIAEgEEgACAQSAAKBBIBAIAEgEEgACAQSAAKBBIBAIAEgEEgACAQSAAKBBIBAIAEgEEgACAQSAAKBBIBAIAEgEEgACAQSAAKBBIBAIAEgEEgACAQSAAKBBIBAIAEgEEgACAQSAAKBBIBAIAEgEEgACAQSAAKBBIBAIAEgEEgACAQSAAKBBIBAIAEgEEgACAQSAAKBBIBAIAEgEEgACAQSAIL7ChPtuVe/XuYfWlNaO3f2enlq4UKZZju+tb784vjW0sIPv/1WWbz0YenS/oObej/my6xZvPhh+eF33rrrz+vq18IsO/2Hd8uzP79UZpUnSKJv9uKx5/EvFYBZJZAsqT6t+B05MKsEkiWtn/tcWTi8uQDMIoHkjh7ZvaF33LquAMwageSunnjm4f7TJMAsEUjuan7LmrLv4KYCMEsEkmX57uMPOmoFZopAsmz7ZnAGD5hdAsmymY0EZolAsiJmI4FZIZCsSH2b9YlfbikA004gWbF61Lpz91wBmGYCyUAOHPqK2UhgqgkkAzEbCUw7gWRgZiOBaeY+SFZloXfU+pPvv12YLNev/bucf+ODMgneuXhjWT/vQu/fZ3GZP7cr27avbfbRw+KlG/27MEfp/Jv/KrNMIFmV+g2hzkaefP7vhclR4zhtF2L/6sd/KaP29PGt/ZfYWjj90nvlxNF3CqPjiJVVMxsJTCOBZNXMRgLTSCBpwmwkMG0Ekmae7D1Fmo0EpoVA0kyNo9lIYFoIJE2ZjQSmhUDSd+7s9dJKnY0EmHQCSd/xI5dLK3U2cr+jVmDCCSR9mx5aU868dq20sqd31Go2EphkAklffcHmjy9cKa2YjQQmnUDSt37DveX13ueQLT+LrLORu/ZuLACTSCDpuzW/+JufXSwtHTi82WwkMJEEkv9Tbw9ouXjcbCQwqQSSvnW3PeWdOLrYv2qnFbORwCQSSPoemPvf/wr1rsBnf3qptPTEMw87agUmikAS1Rd2zpy6WlqZ37Kmf28kwKQQSJZ07Mjl/tNkK2YjgUkikCypvrBz4rftbjQ3GwlMEoHkjk6+cKX5bKSjVmASCCR31Xo2cv/BeS/sAGNPILmr/lHr0bZHrQuHNheAcSaQLMvJ5680nY3c/dhGs5HAWBNIlsVsJDBrBJJlq7ORLdfQmY0ExplAsiJ1DV3L2cj6wo7ZSGAcCSQr0slRq9lIYAwJJCtWV9CZjQSmnUAykDob2fqo1Qs7wDgRSAbSzRq6hwrAuBBIBtZ6Dd0juzeYjQTGhkCyKsePXC4tmY0ExoVAsirn3/jAbCQwle4rsEp1NnLnow+U+Yc+X1qoL+z8+dS1cqEXX7qxbfva8vTxrWVcnX7pvXL65fcKjJJAsmq3ZiN/0fAb7oFDm8tTCxcK3ajH2HW8Zly93vCzbRiUI1aaqN/Q6u/6WzEbCYyaQNLMsSOXraEDpoZA0kyNY+vZyIXD7o0ERkMgacpsJDAtBJLmWq+hMxsJjIJA0lxdQ9d6NnLfwU0FYJgEkk7U2cjzDecYv/v4g45agaESSDpzrPEaun0H5wvAsAgknamzkS2PWs1GAsMkkHSqHrUuXrpRWjEbCQyLQNKpW2voWvn43sgtBaBrAknn6lHrmVNXSyv1qHXn7rkC0CWBZCjqU2TL2cgDh75iNhLolEAyFK3X0JmNBLrmuiuGpq6h2/noXLNrlups5Nne0e25s+8XVqb+huX6tY/KuLp+dXz/2ZgdAslQ1TV0v37xq82ORxd6R60/+f7bhZWpSxzctwl35oiVoWq9hm7b9rVmI4FOCCRDZzYSmAQCyUiYjQTGnUAyEl2soTMbCbQkkIxM66PWJ3tPkWYjgVYEkpGpowbHfvW30kqNo9lIoBWBZKTO9OcYr5dW3BsJtCKQjFydjWy5hq7ORgKslkAycnU2suUaujobud9RK7BKAslYqGvoWh617ukdtZqNBFZDIBkbx49cLq2YjQRWSyAZG3U/6Imj7Y5a62zkrr0bC8AgBJKxcvL5K01nIw8c3mw2EhiIQDJW6tusrdfQmY0EBiGQjJ3Wa+jMRgKDEEjGUl1D13I28olnHv7MUev7V9v9/YHpI5CMpdZHrfNb1nzm3siWAQamj0AytlqvoTMbCayEQDLWWq6h+/Rs5PVrHxWApQgkY631Gro6G3nrqNURK3AnAsnYa72Gbv/B+U9e2BFJYCkCyURouWHn9tlIx6zAUgSSidDVbOTixXZbe4DpIpBMjDob2XIN3b7eUes7vc84ARKBZGK0no2sL+zs6P0ASASSiVKPWk+/9F5ppS4QAEgEkolz7Mhlb58CnRNIJk6NY8vZSIBEIJlIrWcjAT5NIJlYLdfQAXzafYUVWT93b9m194tlx851Zdv2+z9Zfl0Hzs+/8c/+arQ/vfxu7+nm/UK36te6zkbudyEy0AGBXKYaxnobxJ7Hv9z/8/TX69hA+VYpux/b+PEO0aOL5fTL7d645LPq13jn7rneb1bWFoCWHLEuQ31K/PWLX/vvDs/lfcnq+MCTv9xSFg5tLnSrvtUK0JonyLuocXz6+LaB5+XqSrP6dHPkx3/1eVlHbq2h+/SFyCxt/YbPTeTdmPXXkP25DItA3sFq43hLPXpdOLy5/OanFwvd6B+1PvpA77/Z5wt3t+0ba8tzr369TJr637nl4nq4E0esd1B3dbbatLJ770ZPOB1qvYYOQCCXUHd01pdtWrr9HkLaq0etZ05dLQAtCOQS9vzgwdJajeOux75Q6I41dEArArmERx6dK134ptsjOtUfr7GGDmhAIIMur0Da+o37C92yhg5oQSCDLj8ndL3ScNQ1dACrIZDB+g2+LJPu401GjlqBwSlBUL+5MvlOPn+lLF66UQAGIZDBOxe7+6Z6/s0PCsNhNhJYDYEMFi992P/RhXNnvDwyTLfW0AGslEAu4fRL3dzC8coLVwrDVdeTmY0EVkogl1A/v2r9TbVG1+ebw+eoFRiEQC6h9TfV+rLIid8tFkajrqAzGwmshEDeQf2m2mJUoMa2Xnfl6XG06myko1ZguQTyLlZ7vU59cnxq4UI5/4a3V0fNGjpgJdwHuQw1kosXb5T9P9q0ovsG6xuUz/aeWrp8cnzl91fKugaLDWYl4HUN3T29P65rvAxiGJf4njv7filHZ/uYvv81GGP1PYPXGx3lj/u/6yy453s7zt0sLNuuvRvLrsc2Lrl0vB7hnXntajn18j+a/UIBYOhuCuSA1s/dW7Zuv7+/t7WupqtPiXXBQFfzkwAM1U1HrAOqR2qeEAGml5d0ACAQSAAIBBIAAoEEgEAgASAQSAAIBBIAAoEEgEAgASAQSAAIBBIAAoEEgEAgASAQSAAIBBIAAoEEgEAgASAQSAAIBBIAAoEEgEAgASAQSAAIBBIAAoEEgEAgASAQSAAIBBIAAoEEgEAgASAQSAAIBBIAAoEEgEAgASAQSAAIBBIAAoEEgEAgASAQSAAIBBIAAoEEgEAgASAQSAAIBBIAAoEEgEAgASAQSAAIBBIAAoEEgEAgASAQSAAIBBIAAoEEgEAgASAQSAAIBBIAAoEEgEAgASAQSAAIBBIAAoEEgEAgASAQSAAIBBIAAoEEgEAgASAQSAAIBBIAAoEEgEAgASAQSAAIBBIAAoEEgEAgASAQSAAIBBIAAoEEgEAgASAQSAAIBBIAAoEEgEAgASAQSAAIBBIAAoEEgEAgASAQSAAIBBIAAoEEgEAgASAQSAAIBBIAAoEEgEAgASAQSAAIBBIAAoEEgEAgASAQSAAIBBIAAoEEgEAgASAQSAAIBBIAAoEEgEAgASAQSAAIBBIAAoEEgEAgASAQSAAIBBIAAoEEgEAgASAQSAAIBBIAAoEEgEAgASAQSAAIBBIAAoEEgEAgASAQSAAIBBIAAoEEgEAgASAQSAAIBBIAAoEEgEAgASAQSAAIBBIAAoEEgEAgASAQSAAIBBIAAoEEgEAgASAQSAAIBBIAAoEEgEAgASAQSAAIBBIAAoEEgEAgASAQSAAIBBIAAoEEgEAgASAQSAAIBBIAAoEEgEAgASAQSAAIBBIAAoEEgEAgASAQSAAIBBIAAoEEgEAgASAQSAAI7uv9uFkAgNvd/A8A1U9HVwv36gAAAABJRU5ErkJggg==\" width=\"125em\"></img></td><td style=\"line-height:.8em\"><p style=\"font-size:1.5em\"><b>.NET Interactive</b></p><p>&#169; 2020 Microsoft Corporation</p><p><b>Version: </b>1.0.360602+9bf026dabac44a6256a65168fa93dcb7e2edcca4</p><p><b>Library version: </b>1.0.0-beta.22606.2+9bf026dabac44a6256a65168fa93dcb7e2edcca4</p><p><b>Build date: </b>2022-12-10T01:03:09.8221170Z</p><p><a href=\"https://github.com/dotnet/interactive\">https://github.com/dotnet/interactive</a></p></td></tr></tbody></table>"
      ]
     },
     "metadata": {},
     "output_type": "display_data"
    }
   ],
   "source": [
    "#!about"
   ]
  }
 ],
 "metadata": {
  "kernelspec": {
   "display_name": ".NET (C#)",
   "language": "C#",
   "name": ".net-csharp"
  },
  "polyglot_notebook": {
   "kernelInfo": {
    "defaultKernelName": "csharp",
    "items": [
     {
      "aliases": [],
      "name": "csharp"
     }
    ]
   }
  }
 },
 "nbformat": 4,
 "nbformat_minor": 2
}
