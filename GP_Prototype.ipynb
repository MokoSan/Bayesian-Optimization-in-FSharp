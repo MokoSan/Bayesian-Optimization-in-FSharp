{
 "cells": [
  {
   "cell_type": "code",
   "execution_count": 1,
   "metadata": {
    "dotnet_interactive": {
     "language": "fsharp"
    }
   },
   "outputs": [
    {
     "data": {
      "text/html": [
       "<div><div></div><div></div><div><strong>Installed Packages</strong><ul><li><span>MathNet.Numerics, 5.0.0</span></li></ul></div></div>"
      ]
     },
     "metadata": {},
     "output_type": "display_data"
    }
   ],
   "source": [
    "#r \"nuget: MathNet.Numerics\"\n",
    "\n",
    "open System.Linq;\n",
    "open System.Collections.Generic\n",
    "open System.Collections;\n",
    "open MathNet.Numerics.LinearAlgebra\n",
    "open MathNet.Numerics.Distributions"
   ]
  },
  {
   "attachments": {},
   "cell_type": "markdown",
   "metadata": {
    "dotnet_interactive": {
     "language": "fsharp"
    },
    "polyglot_notebook": {
     "kernelName": "fsharp"
    }
   },
   "source": [
    "## Domain"
   ]
  },
  {
   "cell_type": "code",
   "execution_count": 2,
   "metadata": {
    "dotnet_interactive": {
     "language": "fsharp"
    },
    "polyglot_notebook": {
     "kernelName": "fsharp"
    }
   },
   "outputs": [],
   "source": [
    "type Goal = \n",
    "    | Max\n",
    "    | Min\n",
    "\n",
    "type SquaredExponentialKernelParameters = { LengthScale : double; Variance : double }\n",
    "type DataPoint       = { X : double; Y : double }\n",
    "type GaussianProcess = \n",
    "    { \n",
    "        Kernel                   : SquaredExponentialKernelParameters \n",
    "        DataPoints               : List<DataPoint>\n",
    "        mutable CovarianceMatrix : Matrix<double>\n",
    "    }\n",
    "\n",
    "type AcquistionFunctionResult = { X : double; Y : double }\n",
    "\n",
    "type EstimationResult =\n",
    "    { \n",
    "        Mean       : double\n",
    "        LowerBound : double\n",
    "        UpperBound : double\n",
    "        X          : double\n",
    "    }\n",
    "\n",
    "type GaussianModel =\n",
    "    {\n",
    "        GaussianProcess : GaussianProcess \n",
    "        Query           : double -> double\n",
    "        Inputs          : List<double> \n",
    "    }\n",
    "\n",
    "type ModelResult = \n",
    "    { \n",
    "        Input                    : List<DataPoint>\n",
    "        AcquistionFunctionResult : List<AcquistionFunctionResult>\n",
    "        EstimationResult         : List<EstimationResult>\n",
    "    }"
   ]
  },
  {
   "attachments": {},
   "cell_type": "markdown",
   "metadata": {
    "dotnet_interactive": {
     "language": "fsharp"
    },
    "polyglot_notebook": {
     "kernelName": "fsharp"
    }
   },
   "source": [
    "## Functions"
   ]
  },
  {
   "attachments": {},
   "cell_type": "markdown",
   "metadata": {
    "dotnet_interactive": {
     "language": "fsharp"
    },
    "polyglot_notebook": {
     "kernelName": "fsharp"
    }
   },
   "source": [
    "### Kernel "
   ]
  },
  {
   "cell_type": "code",
   "execution_count": 3,
   "metadata": {
    "dotnet_interactive": {
     "language": "fsharp"
    },
    "polyglot_notebook": {
     "kernelName": "fsharp"
    }
   },
   "outputs": [],
   "source": [
    "// Squared Exponential Kernel.\n",
    "let gaussianKernelCompute (kernel: SquaredExponentialKernelParameters) (left : double) (right : double) : double  = \n",
    "    if left = right then kernel.Variance\n",
    "    else \n",
    "        let squareDistance : double = Math.Pow( left - right, 2 )\n",
    "        kernel.Variance * Math.Exp( -squareDistance / ( kernel.LengthScale * kernel.LengthScale * 2. ))"
   ]
  },
  {
   "attachments": {},
   "cell_type": "markdown",
   "metadata": {
    "dotnet_interactive": {
     "language": "fsharp"
    },
    "polyglot_notebook": {
     "kernelName": "fsharp"
    }
   },
   "source": [
    "### Estimation "
   ]
  },
  {
   "cell_type": "code",
   "execution_count": 4,
   "metadata": {
    "dotnet_interactive": {
     "language": "fsharp"
    }
   },
   "outputs": [],
   "source": [
    "// Estimation Method.\n",
    "let estimateAtPoint (gaussianProcess : GaussianProcess) (x : double) : EstimationResult = \n",
    "    let kStar : double[] = \n",
    "        gaussianProcess.DataPoints\n",
    "                       .Select(fun dp -> gaussianKernelCompute gaussianProcess.Kernel x dp.X)\n",
    "                       .ToArray()\n",
    "\n",
    "    let yTrain : double[] = \n",
    "        gaussianProcess.DataPoints\n",
    "                       .Select(fun dp -> dp.Y)\n",
    "                       .ToArray()\n",
    "\n",
    "    let ks         : Vector<double> = Vector<double>.Build.Dense kStar\n",
    "    let f          : Vector<double> = Vector<double>.Build.Dense yTrain\n",
    "    let common     : Vector<double> = gaussianProcess.CovarianceMatrix.Inverse().Multiply(ks)\n",
    "    let mu         : double         = common.DotProduct f\n",
    "    let confidence : double         = Math.Abs(-common.DotProduct(ks) + (gaussianKernelCompute gaussianProcess.Kernel x x))\n",
    "    let estimation = { Mean = mu; LowerBound = mu - confidence; UpperBound = mu + confidence; X = x }\n",
    "    estimation"
   ]
  },
  {
   "cell_type": "code",
   "execution_count": 5,
   "metadata": {
    "dotnet_interactive": {
     "language": "fsharp"
    },
    "polyglot_notebook": {
     "kernelName": "fsharp"
    }
   },
   "outputs": [],
   "source": [
    "// Based on each subsequent iteration, we compute the next query point by referring to the surrogate function \n",
    "// that produces the highest acquisition value.\n",
    "let estimateAtRange (gaussianProcess : GaussianProcess) (X : List<double>) : List<EstimationResult> =\n",
    "    let result = X.Select(fun x -> estimateAtPoint gaussianProcess x).ToList()\n",
    "    result"
   ]
  },
  {
   "attachments": {},
   "cell_type": "markdown",
   "metadata": {
    "dotnet_interactive": {
     "language": "fsharp"
    },
    "polyglot_notebook": {
     "kernelName": "fsharp"
    }
   },
   "source": [
    "### Acquisition"
   ]
  },
  {
   "cell_type": "code",
   "execution_count": 6,
   "metadata": {
    "dotnet_interactive": {
     "language": "fsharp"
    },
    "polyglot_notebook": {
     "kernelName": "fsharp"
    }
   },
   "outputs": [],
   "source": [
    "// Acquisition Method.\n",
    "let expectedImprovement (gaussianProcess : GaussianProcess) \n",
    "                        (estimationResult : EstimationResult) \n",
    "                        (goal : Goal) : AcquistionFunctionResult = \n",
    "\n",
    "    // TODO: Improve this logic by keeping score of the max / min based on the goal.\n",
    "    let bestValue : double = \n",
    "        match goal with\n",
    "        | Goal.Max -> gaussianProcess.DataPoints.Max(fun l -> l.Y)\n",
    "        | Goal.Min -> gaussianProcess.DataPoints.Min(fun l -> l.Y)\n",
    "\n",
    "    if gaussianProcess.DataPoints.Any(fun d -> d.X = estimationResult.X) then { X = estimationResult.X ; Y = 0. } \n",
    "    else\n",
    "        let delta : double = estimationResult.Mean - bestValue\n",
    "        let sigma : double = estimationResult.UpperBound - estimationResult.LowerBound\n",
    "        let z     : double = delta / sigma\n",
    "        let next  : double = delta * Normal.CDF(0., 1., z) + sigma * Normal.PDF(0., 1., z)\n",
    "\n",
    "        { X = estimationResult.X ; Y = Math.Max(next, 0) }"
   ]
  },
  {
   "attachments": {},
   "cell_type": "markdown",
   "metadata": {
    "dotnet_interactive": {
     "language": "fsharp"
    },
    "polyglot_notebook": {
     "kernelName": "fsharp"
    }
   },
   "source": [
    "### Model"
   ]
  },
  {
   "cell_type": "code",
   "execution_count": 7,
   "metadata": {
    "dotnet_interactive": {
     "language": "fsharp"
    },
    "polyglot_notebook": {
     "kernelName": "fsharp"
    }
   },
   "outputs": [],
   "source": [
    "let addDataPoint (model : GaussianModel) (dataPoint : DataPoint) : unit =\n",
    "\n",
    "    model.GaussianProcess.DataPoints.Add dataPoint\n",
    "\n",
    "    let size : int = model.GaussianProcess.DataPoints.Count\n",
    "    let mutable updatedCovariance : Matrix<double> = Matrix<double>.Build.Dense(size, size) \n",
    "\n",
    "    for rowIdx in 0..(model.GaussianProcess.CovarianceMatrix.RowCount - 1) do\n",
    "        for columnIdx in 0..(model.GaussianProcess.CovarianceMatrix.ColumnCount - 1) do\n",
    "            updatedCovariance[rowIdx, columnIdx] <- model.GaussianProcess.CovarianceMatrix.[rowIdx, columnIdx]\n",
    "\n",
    "    for runnerIdx in 0..(size - 1) do\n",
    "        let value : double = gaussianKernelCompute model.GaussianProcess.Kernel model.GaussianProcess.DataPoints.[runnerIdx].X dataPoint.X\n",
    "        updatedCovariance[runnerIdx, size - 1] <- value\n",
    "        updatedCovariance[size - 1, runnerIdx] <- value\n",
    "    \n",
    "    updatedCovariance[size - 1, size - 1] <- gaussianKernelCompute model.GaussianProcess.Kernel dataPoint.X dataPoint.X\n",
    "    updatedCovariance.MapInplace(fun q -> Math.Round(q, 5))\n",
    "    model.GaussianProcess.CovarianceMatrix <- updatedCovariance\n",
    "\n",
    "let addDataPointViaProcess (gaussianProcess : GaussianProcess) (dataPoint : DataPoint) : unit =\n",
    "\n",
    "    gaussianProcess.DataPoints.Add dataPoint\n",
    "\n",
    "    let size : int = gaussianProcess.DataPoints.Count\n",
    "    let mutable updatedCovariance : Matrix<double> = Matrix<double>.Build.Dense(size, size) \n",
    "\n",
    "    for rowIdx in 0..(gaussianProcess.CovarianceMatrix.RowCount - 1) do\n",
    "        for columnIdx in 0..(gaussianProcess.CovarianceMatrix.ColumnCount - 1) do\n",
    "            updatedCovariance[rowIdx, columnIdx] <- gaussianProcess.CovarianceMatrix.[rowIdx, columnIdx]\n",
    "\n",
    "    for runnerIdx in 0..(size - 1) do\n",
    "        let value : double = gaussianKernelCompute gaussianProcess.Kernel gaussianProcess.DataPoints.[runnerIdx].X dataPoint.X\n",
    "        updatedCovariance[runnerIdx, size - 1] <- value\n",
    "        updatedCovariance[size - 1, runnerIdx] <- value\n",
    "    \n",
    "    updatedCovariance[size - 1, size - 1] <- gaussianKernelCompute gaussianProcess.Kernel dataPoint.X dataPoint.X\n",
    "    updatedCovariance.MapInplace(fun q -> Math.Round(q, 5))\n",
    "    gaussianProcess.CovarianceMatrix <- updatedCovariance"
   ]
  },
  {
   "cell_type": "code",
   "execution_count": 8,
   "metadata": {
    "dotnet_interactive": {
     "language": "fsharp"
    },
    "polyglot_notebook": {
     "kernelName": "fsharp"
    }
   },
   "outputs": [],
   "source": [
    "let createModel (gaussianProcess  : GaussianProcess) \n",
    "                (query            : double -> double) \n",
    "                (min              : double) \n",
    "                (max              : double)\n",
    "                (resolution       : int) : GaussianModel = \n",
    "\n",
    "    // Random Uniform Initialization of Inputs.\n",
    "    let inputs : List<double> = (seq { for i in 0 .. resolution do i }\n",
    "                                |> Seq.map(fun idx -> min + double idx * (max - min) / (double resolution - 1.))).ToList()\n",
    "    { GaussianProcess = gaussianProcess; Query = query; Inputs = inputs }"
   ]
  },
  {
   "cell_type": "code",
   "execution_count": 18,
   "metadata": {
    "dotnet_interactive": {
     "language": "fsharp"
    },
    "polyglot_notebook": {
     "kernelName": "fsharp"
    }
   },
   "outputs": [],
   "source": [
    "let findExtrema (gaussianModel : GaussianModel) (goal : Goal) (iterations : int) : ModelResult = \n",
    "    addDataPointViaProcess gaussianModel.GaussianProcess { X = gaussianModel.Inputs.[0]; Y = gaussianModel.Query gaussianModel.Inputs.[0] }\n",
    "    addDataPointViaProcess gaussianModel.GaussianProcess { X = gaussianModel.Inputs.Last(); Y = gaussianModel.Query ( gaussianModel.Inputs.Last() )}\n",
    "\n",
    "    for iterationIdx in 0..(iterations - 1) do\n",
    "\n",
    "        // Acquire next data point to explore.\n",
    "        let nextPointToExplore : double = \n",
    "            // Find the data point that maximizes the acquisition function.\n",
    "            let estimatedAtRange : List<EstimationResult> = estimateAtRange gaussianModel.GaussianProcess gaussianModel.Inputs\n",
    "            let maxAcquisition   : List<AcquistionFunctionResult> = estimatedAtRange.Select(fun e -> (expectedImprovement gaussianModel.GaussianProcess e goal)).ToList()\n",
    "            let maxVal = maxAcquisition.MaxBy(fun e -> e.Y)\n",
    "            maxVal.X\n",
    "\n",
    "        if gaussianModel.GaussianProcess.DataPoints.Any(fun d -> d.X = nextPointToExplore) then ()        \n",
    "        else \n",
    "        addDataPoint gaussianModel { X = nextPointToExplore; Y = gaussianModel.Query ( nextPointToExplore )}\n",
    "\n",
    "    let estimationResult : List<EstimationResult> = estimateAtRange gaussianModel.GaussianProcess gaussianModel.Inputs\n",
    "\n",
    "    {\n",
    "        Input                    = gaussianModel.GaussianProcess.DataPoints\n",
    "        AcquistionFunctionResult = estimationResult.Select(fun e -> expectedImprovement gaussianModel.GaussianProcess e goal).ToList() \n",
    "        EstimationResult         = estimationResult \n",
    "    }"
   ]
  },
  {
   "attachments": {},
   "cell_type": "markdown",
   "metadata": {
    "dotnet_interactive": {
     "language": "fsharp"
    },
    "polyglot_notebook": {
     "kernelName": "fsharp"
    }
   },
   "source": [
    "## Tests"
   ]
  },
  {
   "attachments": {},
   "cell_type": "markdown",
   "metadata": {
    "dotnet_interactive": {
     "language": "fsharp"
    },
    "polyglot_notebook": {
     "kernelName": "fsharp"
    }
   },
   "source": [
    "### E2E Test"
   ]
  },
  {
   "cell_type": "code",
   "execution_count": 22,
   "metadata": {
    "dotnet_interactive": {
     "language": "fsharp"
    },
    "polyglot_notebook": {
     "kernelName": "fsharp"
    }
   },
   "outputs": [],
   "source": [
    "open MathNet.Numerics\n",
    "\n",
    "let test_model() : GaussianModel =\n",
    "    let gaussianProcess : GaussianProcess = \n",
    "        { \n",
    "            Kernel           = { LengthScale = 0.1; Variance = 1 }\n",
    "            DataPoints       = List<DataPoint>()\n",
    "            CovarianceMatrix = Matrix<double>.Build.Dense(1, 1)\n",
    "        }\n",
    "\n",
    "    createModel gaussianProcess Trig.Sin -Math.PI Math.PI 300 "
   ]
  },
  {
   "cell_type": "code",
   "execution_count": 26,
   "metadata": {
    "dotnet_interactive": {
     "language": "fsharp"
    },
    "polyglot_notebook": {
     "kernelName": "fsharp"
    }
   },
   "outputs": [
    {
     "data": {
      "text/html": [
       "<table><thead><tr><th>X</th><th>Y</th></tr></thead><tbody><tr><td><div class=\"dni-plaintext\"><pre>1.5655428273741778</pre></div></td><td><div class=\"dni-plaintext\"><pre>0.9999862004036565</pre></div></td></tr></tbody></table>"
      ]
     },
     "metadata": {},
     "output_type": "display_data"
    }
   ],
   "source": [
    "let model = test_model()\n",
    "let extrema = findExtrema model Goal.Max 40 \n",
    "extrema.Input.MaxBy(fun e -> e.Y)"
   ]
  },
  {
   "attachments": {},
   "cell_type": "markdown",
   "metadata": {
    "dotnet_interactive": {
     "language": "fsharp"
    },
    "polyglot_notebook": {
     "kernelName": "fsharp"
    }
   },
   "source": [
    "### Test Add Point"
   ]
  },
  {
   "cell_type": "code",
   "execution_count": 12,
   "metadata": {
    "dotnet_interactive": {
     "language": "fsharp"
    },
    "polyglot_notebook": {
     "kernelName": "fsharp"
    }
   },
   "outputs": [
    {
     "name": "stdout",
     "output_type": "stream",
     "text": [
      "i: 0 | j: 0 = 1.0\n",
      "i: 0 | j: 1 = 0.62472\n",
      "i: 0 | j: 2 = 0.01046\n",
      "i: 1 | j: 0 = 0.62472\n",
      "i: 1 | j: 1 = 1.0\n",
      "i: 1 | j: 2 = 0.1223\n",
      "i: 2 | j: 0 = 0.01046\n",
      "i: 2 | j: 1 = 0.1223\n",
      "i: 2 | j: 2 = 1.0\n"
     ]
    },
    {
     "data": {
      "text/html": [
       "<table><thead><tr><th><i>index</i></th><th>value</th></tr></thead><tbody><tr><td>0</td><td><div class=\"dni-plaintext\"><pre>1</pre></div></td></tr><tr><td>1</td><td><div class=\"dni-plaintext\"><pre>0.62472</pre></div></td></tr><tr><td>2</td><td><div class=\"dni-plaintext\"><pre>0.01046</pre></div></td></tr><tr><td>3</td><td><div class=\"dni-plaintext\"><pre>0.62472</pre></div></td></tr><tr><td>4</td><td><div class=\"dni-plaintext\"><pre>1</pre></div></td></tr><tr><td>5</td><td><div class=\"dni-plaintext\"><pre>0.1223</pre></div></td></tr><tr><td>6</td><td><div class=\"dni-plaintext\"><pre>0.01046</pre></div></td></tr><tr><td>7</td><td><div class=\"dni-plaintext\"><pre>0.1223</pre></div></td></tr><tr><td>8</td><td><div class=\"dni-plaintext\"><pre>1</pre></div></td></tr></tbody></table><style>\r\n",
       ".dni-code-hint {\r\n",
       "    font-style: italic;\r\n",
       "    overflow: hidden;\r\n",
       "    white-space: nowrap;\r\n",
       "}\r\n",
       ".dni-treeview {\r\n",
       "    white-space: nowrap;\r\n",
       "}\r\n",
       ".dni-treeview td {\r\n",
       "    vertical-align: top;\r\n",
       "    text-align: start;\r\n",
       "}\r\n",
       "details.dni-treeview {\r\n",
       "    padding-left: 1em;\r\n",
       "}\r\n",
       "table td {\r\n",
       "    text-align: start;\r\n",
       "}\r\n",
       "table tr { \r\n",
       "    vertical-align: top; \r\n",
       "    margin: 0em 0px;\r\n",
       "}\r\n",
       "table tr td pre \r\n",
       "{ \r\n",
       "    vertical-align: top !important; \r\n",
       "    margin: 0em 0px !important;\r\n",
       "} \r\n",
       "table th {\r\n",
       "    text-align: start;\r\n",
       "}\r\n",
       "</style>"
      ]
     },
     "metadata": {},
     "output_type": "display_data"
    }
   ],
   "source": [
    "let gaussianProcess : GaussianProcess = \n",
    "    { \n",
    "        Kernel           = { LengthScale = 1; Variance = 1 }\n",
    "        DataPoints       = List<DataPoint>()\n",
    "        CovarianceMatrix = Matrix<double>.Build.Dense(1, 1)\n",
    "    }\n",
    "addDataPointViaProcess gaussianProcess { X = 1.02; Y = 0.79 }\n",
    "addDataPointViaProcess gaussianProcess { X = 1.99; Y = 0.94 }\n",
    "addDataPointViaProcess gaussianProcess { X = 4.04; Y = 0.65 }\n",
    "\n",
    "for i in 0..gaussianProcess.CovarianceMatrix.RowCount - 1 do\n",
    "    for j in 0..gaussianProcess.CovarianceMatrix.ColumnCount - 1 do\n",
    "        printfn \"i: %A | j: %A = %A\" i j gaussianProcess.CovarianceMatrix.[i, j]\n",
    "\n",
    "gaussianProcess.CovarianceMatrix.ToArray()"
   ]
  },
  {
   "attachments": {},
   "cell_type": "markdown",
   "metadata": {
    "dotnet_interactive": {
     "language": "fsharp"
    },
    "polyglot_notebook": {
     "kernelName": "fsharp"
    }
   },
   "source": [
    "### Estimate At Point Tests"
   ]
  },
  {
   "cell_type": "code",
   "execution_count": 13,
   "metadata": {
    "dotnet_interactive": {
     "language": "fsharp"
    },
    "polyglot_notebook": {
     "kernelName": "fsharp"
    }
   },
   "outputs": [
    {
     "data": {
      "text/html": [
       "<table><thead><tr><th>Mean</th><th>LowerBound</th><th>UpperBound</th><th>X</th></tr></thead><tbody><tr><td><div class=\"dni-plaintext\"><pre>0.7619039049756857</pre></div></td><td><div class=\"dni-plaintext\"><pre>0.4515505906657865</pre></div></td><td><div class=\"dni-plaintext\"><pre>1.0722572192855848</pre></div></td><td><div class=\"dni-plaintext\"><pre>3</pre></div></td></tr></tbody></table>"
      ]
     },
     "metadata": {},
     "output_type": "display_data"
    }
   ],
   "source": [
    "let gaussianProcess : GaussianProcess = \n",
    "    { \n",
    "        Kernel           = { LengthScale = 1; Variance = 1 }\n",
    "        DataPoints       = List<DataPoint>()\n",
    "        CovarianceMatrix = Matrix<double>.Build.Dense(1, 1)\n",
    "    }\n",
    "\n",
    "addDataPointViaProcess gaussianProcess { X = 1.02; Y = 0.79 }\n",
    "addDataPointViaProcess gaussianProcess { X = 1.99; Y = 0.94 }\n",
    "addDataPointViaProcess gaussianProcess { X = 4.04; Y = 0.65 }\n",
    "\n",
    "estimateAtPoint gaussianProcess 3."
   ]
  },
  {
   "attachments": {},
   "cell_type": "markdown",
   "metadata": {
    "dotnet_interactive": {
     "language": "fsharp"
    },
    "polyglot_notebook": {
     "kernelName": "fsharp"
    }
   },
   "source": [
    "### Estimate At Range Tests"
   ]
  },
  {
   "cell_type": "code",
   "execution_count": 14,
   "metadata": {
    "dotnet_interactive": {
     "language": "fsharp"
    },
    "polyglot_notebook": {
     "kernelName": "fsharp"
    }
   },
   "outputs": [
    {
     "data": {
      "text/html": [
       "<table><thead><tr><th><i>index</i></th><th>Mean</th><th>LowerBound</th><th>UpperBound</th><th>X</th></tr></thead><tbody><tr><td>0</td><td><div class=\"dni-plaintext\"><pre>0.7900006554325352</pre></div></td><td><div class=\"dni-plaintext\"><pre>0.7900006554305625</pre></div></td><td><div class=\"dni-plaintext\"><pre>0.7900006554345078</pre></div></td><td><div class=\"dni-plaintext\"><pre>1.02</pre></div></td></tr><tr><td>1</td><td><div class=\"dni-plaintext\"><pre>0.9500580221491164</pre></div></td><td><div class=\"dni-plaintext\"><pre>0.9385115800683537</pre></div></td><td><div class=\"dni-plaintext\"><pre>0.9616044642298791</pre></div></td><td><div class=\"dni-plaintext\"><pre>1.775</pre></div></td></tr><tr><td>2</td><td><div class=\"dni-plaintext\"><pre>0.8476324262374962</pre></div></td><td><div class=\"dni-plaintext\"><pre>0.7112224367320922</pre></div></td><td><div class=\"dni-plaintext\"><pre>0.9840424157429003</pre></div></td><td><div class=\"dni-plaintext\"><pre>2.53</pre></div></td></tr><tr><td>3</td><td><div class=\"dni-plaintext\"><pre>0.7284542563753813</pre></div></td><td><div class=\"dni-plaintext\"><pre>0.44698700031890404</pre></div></td><td><div class=\"dni-plaintext\"><pre>1.0099215124318586</pre></div></td><td><div class=\"dni-plaintext\"><pre>3.285</pre></div></td></tr><tr><td>4</td><td><div class=\"dni-plaintext\"><pre>0.6500021421694712</pre></div></td><td><div class=\"dni-plaintext\"><pre>0.6500021421492305</pre></div></td><td><div class=\"dni-plaintext\"><pre>0.6500021421897119</pre></div></td><td><div class=\"dni-plaintext\"><pre>4.04</pre></div></td></tr></tbody></table><style>\r\n",
       ".dni-code-hint {\r\n",
       "    font-style: italic;\r\n",
       "    overflow: hidden;\r\n",
       "    white-space: nowrap;\r\n",
       "}\r\n",
       ".dni-treeview {\r\n",
       "    white-space: nowrap;\r\n",
       "}\r\n",
       ".dni-treeview td {\r\n",
       "    vertical-align: top;\r\n",
       "    text-align: start;\r\n",
       "}\r\n",
       "details.dni-treeview {\r\n",
       "    padding-left: 1em;\r\n",
       "}\r\n",
       "table td {\r\n",
       "    text-align: start;\r\n",
       "}\r\n",
       "table tr { \r\n",
       "    vertical-align: top; \r\n",
       "    margin: 0em 0px;\r\n",
       "}\r\n",
       "table tr td pre \r\n",
       "{ \r\n",
       "    vertical-align: top !important; \r\n",
       "    margin: 0em 0px !important;\r\n",
       "} \r\n",
       "table th {\r\n",
       "    text-align: start;\r\n",
       "}\r\n",
       "</style>"
      ]
     },
     "metadata": {},
     "output_type": "display_data"
    }
   ],
   "source": [
    "let gaussianProcess : GaussianProcess = \n",
    "    { \n",
    "        Kernel           = { LengthScale = 1; Variance = 1 }\n",
    "        DataPoints       = List<DataPoint>()\n",
    "        CovarianceMatrix = Matrix<double>.Build.Dense(1, 1)\n",
    "    }\n",
    "addDataPointViaProcess gaussianProcess { X = 1.02; Y = 0.79 }\n",
    "addDataPointViaProcess gaussianProcess { X = 1.99; Y = 0.94 }\n",
    "addDataPointViaProcess gaussianProcess { X = 4.04; Y = 0.65 }\n",
    "\n",
    "let list = List<double>()\n",
    "list.Add(1.02)\n",
    "list.Add(1.775)\n",
    "list.Add(2.530)\n",
    "list.Add(3.285)\n",
    "list.Add(4.04)\n",
    "estimateAtRange gaussianProcess list"
   ]
  },
  {
   "cell_type": "code",
   "execution_count": 15,
   "metadata": {
    "dotnet_interactive": {
     "language": "csharp"
    },
    "polyglot_notebook": {
     "kernelName": "csharp"
    }
   },
   "outputs": [
    {
     "data": {
      "text/html": [
       "<div><div></div><div></div><div><strong>Installed Packages</strong><ul><li><span>MathNet.Numerics, 5.0.0</span></li></ul></div></div>"
      ]
     },
     "metadata": {},
     "output_type": "display_data"
    }
   ],
   "source": [
    "#r \"nuget: MathNet.Numerics\""
   ]
  },
  {
   "cell_type": "code",
   "execution_count": 16,
   "metadata": {
    "dotnet_interactive": {
     "language": "csharp"
    },
    "polyglot_notebook": {
     "kernelName": "csharp"
    }
   },
   "outputs": [
    {
     "data": {
      "text/html": [
       "<table><thead><tr><th>EstimationValues</th><th>QueryValues</th><th>AquisitionValues</th></tr></thead><tbody><tr><td><div class=\"dni-plaintext\"><pre>List&lt;EstimationResult&gt;\r\n",
       "          - Mean: 1.6564730550937656E-06\r\n",
       "            LowerBound: 1.656370980966837E-06\r\n",
       "            UpperBound: 1.6565751292206943E-06\r\n",
       "            X: -3.141592653589793\r\n",
       "          - Mean: -0.018395048009512183\r\n",
       "            LowerBound: -0.01857989126831071\r\n",
       "            UpperBound: -0.018210204750713655\r\n",
       "            X: -3.120578655906918\r\n",
       "          - Mean: -0.037763453266347516\r\n",
       "            LowerBound: -0.03828157639764525\r\n",
       "            UpperBound: -0.037245330135049784\r\n",
       "            X: -3.0995646582240433\r\n",
       "          - Mean: -0.05795886229842392\r\n",
       "            LowerBound: -0.05873261712691421\r\n",
       "            UpperBound: -0.057185107469933626\r\n",
       "            X: -3.0785506605411683\r\n",
       "          - Mean: -0.07882969473877018\r\n",
       "            LowerBound: -0.07967973268362745\r\n",
       "            UpperBound: -0.0779796567939129\r\n",
       "            X: -3.057536662858294\r\n",
       "          - Mean: -0.10022127212917434\r\n",
       "            LowerBound: -0.10096530245629001\r\n",
       "            UpperBound: -0.09947724180205866\r\n",
       "            X: -3.036522665175419\r\n",
       "          - Mean: -0.12197968024879716\r\n",
       "            LowerBound: -0.12249781178263211\r\n",
       "            UpperBound: -0.1214615487149622\r\n",
       "            X: -3.015508667492544\r\n",
       "          - Mean: -0.1439555766577075\r\n",
       "            LowerBound: -0.14421987799233835\r\n",
       "            UpperBound: -0.14369127532307666\r\n",
       "            X: -2.994494669809669\r\n",
       "          - Mean: -0.166007811600538\r\n",
       "            LowerBound: -0.1660791685499201\r\n",
       "            UpperBound: -0.16593645465115592\r\n",
       "            X: -2.973480672126794\r\n",
       "          - Mean: -0.18800673584377656\r\n",
       "            LowerBound: -0.18800673592110959\r\n",
       "            UpperBound: -0.18800673576644353\r\n",
       "            X: -2.952466674443919\r\n",
       "          - Mean: -0.209837079770555\r\n",
       "            LowerBound: -0.2099058204360511\r\n",
       "            UpperBound: -0.20976833910505888\r\n",
       "            X: -2.9314526767610443\r\n",
       "          - Mean: -0.23140030375134543\r\n",
       "            LowerBound: -0.23165225219566063\r\n",
       "            UpperBound: -0.23114835530703023\r\n",
       "            X: -2.9104386790781698\r\n",
       "          - Mean: -0.2526163398318046\r\n",
       "            LowerBound: -0.25310550660369996\r\n",
       "            UpperBound: -0.2521271730599092\r\n",
       "            X: -2.889424681395295\r\n",
       "          - Mean: -0.273424668301015\r\n",
       "            LowerBound: -0.27412760513782775\r\n",
       "            UpperBound: -0.2727217314642022\r\n",
       "            X: -2.86841068371242\r\n",
       "          - Mean: -0.29378469872253044\r\n",
       "            LowerBound: -0.29460567450814557\r\n",
       "            UpperBound: -0.2929637229369153\r\n",
       "            X: -2.847396686029545\r\n",
       "          - Mean: -0.3136754523962599\r\n",
       "            LowerBound: -0.31447334612638683\r\n",
       "            UpperBound: -0.3128775586661329\r\n",
       "            X: -2.82638268834667\r\n",
       "          - Mean: -0.3330945707697559\r\n",
       "            LowerBound: -0.3337263853321828\r\n",
       "            UpperBound: -0.332462756207329\r\n",
       "            X: -2.805368690663795\r\n",
       "          - Mean: -0.35205670081401186\r\n",
       "            LowerBound: -0.3524289619368176\r\n",
       "            UpperBound: -0.3516844396912061\r\n",
       "            X: -2.78435469298092\r\n",
       "          - Mean: -0.37059133264907923\r\n",
       "            LowerBound: -0.370708639152916\r\n",
       "            UpperBound: -0.37047402614524244\r\n",
       "            X: -2.7633406952980453\r\n",
       "          - Mean: -0.3887401856746917\r\n",
       "            LowerBound: -0.38874018596276927\r\n",
       "            UpperBound: -0.38874018538661415\r\n",
       "            X: -2.742326697615171 ... (280 more)</pre></div></td><td><div class=\"dni-plaintext\"><pre>List&lt;DataPoint&gt;\r\n",
       "          - X: -3.141592653589793\r\n",
       "            FX: -1.2246467991473532E-16\r\n",
       "          - X: 3.141592653589793\r\n",
       "            FX: 1.2246467991473532E-16\r\n",
       "          - X: -1.1872908690824304\r\n",
       "            FX: -0.9273586864010209\r\n",
       "          - X: 1.3343888528625545\r\n",
       "            FX: 0.9721856577414404\r\n",
       "          - X: 0.7880249131078081\r\n",
       "            FX: 0.7089617321320336\r\n",
       "          - X: 1.9017667903001758\r\n",
       "            FX: 0.9457274261535232\r\n",
       "          - X: 2.448130730054922\r\n",
       "            FX: 0.6392033572011263\r\n",
       "          - X: 0.1365909849386866\r\n",
       "            FX: 0.13616664909624654\r\n",
       "          - X: -2.2800187485919237\r\n",
       "            FX: -0.7588684984083919\r\n",
       "          - X: -0.4728149478646846\r\n",
       "            FX: -0.4553942059949108\r\n",
       "          - X: -1.7336548088371768\r\n",
       "            FX: -0.9867678424885691\r\n",
       "          - X: 1.6075708227399277\r\n",
       "            FX: 0.9993238944241918\r\n",
       "          - X: -2.742326697615171\r\n",
       "            FX: -0.38874213813639663\r\n",
       "          - X: 2.78435469298092\r\n",
       "            FX: 0.34968790894397617\r\n",
       "          - X: 0.4728149478646846\r\n",
       "            FX: 0.4553942059949108\r\n",
       "          - X: 1.0822208806680562\r\n",
       "            FX: 0.8830023950325768\r\n",
       "          - X: -0.8300529084735571\r\n",
       "            FX: -0.737967076723404\r\n",
       "          - X: 2.153934762494674\r\n",
       "            FX: 0.8347385953685361\r\n",
       "          - X: 1.5655428273741778\r\n",
       "            FX: 0.9999862004036565\r\n",
       "          - X: -0.15760498262156153\r\n",
       "            FX: -0.15695332544150578 ... (4 more)</pre></div></td><td><div class=\"dni-plaintext\"><pre>List&lt;AquisitionFunctionValue&gt;\r\n",
       "          - X: -3.141592653589793\r\n",
       "            FX: 0\r\n",
       "          - X: -3.120578655906918\r\n",
       "            FX: 0\r\n",
       "          - X: -3.0995646582240433\r\n",
       "            FX: 0\r\n",
       "          - X: -3.0785506605411683\r\n",
       "            FX: 0\r\n",
       "          - X: -3.057536662858294\r\n",
       "            FX: 0\r\n",
       "          - X: -3.036522665175419\r\n",
       "            FX: 0\r\n",
       "          - X: -3.015508667492544\r\n",
       "            FX: 0\r\n",
       "          - X: -2.994494669809669\r\n",
       "            FX: 0\r\n",
       "          - X: -2.973480672126794\r\n",
       "            FX: 0\r\n",
       "          - X: -2.952466674443919\r\n",
       "            FX: 0\r\n",
       "          - X: -2.9314526767610443\r\n",
       "            FX: 0\r\n",
       "          - X: -2.9104386790781698\r\n",
       "            FX: 0\r\n",
       "          - X: -2.889424681395295\r\n",
       "            FX: 0\r\n",
       "          - X: -2.86841068371242\r\n",
       "            FX: 0\r\n",
       "          - X: -2.847396686029545\r\n",
       "            FX: 0\r\n",
       "          - X: -2.82638268834667\r\n",
       "            FX: 0\r\n",
       "          - X: -2.805368690663795\r\n",
       "            FX: 0\r\n",
       "          - X: -2.78435469298092\r\n",
       "            FX: 0\r\n",
       "          - X: -2.7633406952980453\r\n",
       "            FX: 0\r\n",
       "          - X: -2.742326697615171\r\n",
       "            FX: 0 ... (280 more)</pre></div></td></tr></tbody></table>"
      ]
     },
     "metadata": {},
     "output_type": "display_data"
    }
   ],
   "source": [
    "#r \"C:\\Users\\mukun\\source\\repos\\GP\\GP\\bin\\Debug\\netcoreapp2.0\\GP.dll\"\n",
    "\n",
    "\n",
    "using GP;\n",
    "using GP.Kernels;\n",
    "using GP.AquisitionFunctions;\n",
    "using MathNet.Numerics;\n",
    "using MathNet.Numerics.LinearAlgebra;\n",
    "using MathNet.Numerics.Distributions;\n",
    "\n",
    "var kernel = new GaussianKernel(0.1, 1);\n",
    "var model = new Model(kernel, -Math.PI, Math.PI, 300, Trig.Sin);\n",
    "var extrema = model.FindExtrema(Goal.Max, 40);\n",
    "extrema"
   ]
  },
  {
   "attachments": {},
   "cell_type": "markdown",
   "metadata": {
    "dotnet_interactive": {
     "language": "fsharp"
    },
    "polyglot_notebook": {
     "kernelName": "fsharp"
    }
   },
   "source": [
    "## References\n",
    "\n",
    "1. [Gaussian Processes](http://krasserm.github.io/2018/03/19/gaussian-processes/)\n",
    "2. [Bayesian Optimization From Scratch](https://machinelearningmastery.com/what-is-bayesian-optimization/)\n",
    "3. [Gaussian Processes for Dummies](http://katbailey.github.io/post/gaussian-processes-for-dummies/)"
   ]
  },
  {
   "cell_type": "code",
   "execution_count": 17,
   "metadata": {
    "dotnet_interactive": {
     "language": "fsharp"
    },
    "polyglot_notebook": {
     "kernelName": "fsharp"
    }
   },
   "outputs": [
    {
     "data": {
      "text/html": [
       "<div class=\"dni-plaintext\"><pre>36484</pre></div><style>\r\n",
       ".dni-code-hint {\r\n",
       "    font-style: italic;\r\n",
       "    overflow: hidden;\r\n",
       "    white-space: nowrap;\r\n",
       "}\r\n",
       ".dni-treeview {\r\n",
       "    white-space: nowrap;\r\n",
       "}\r\n",
       ".dni-treeview td {\r\n",
       "    vertical-align: top;\r\n",
       "    text-align: start;\r\n",
       "}\r\n",
       "details.dni-treeview {\r\n",
       "    padding-left: 1em;\r\n",
       "}\r\n",
       "table td {\r\n",
       "    text-align: start;\r\n",
       "}\r\n",
       "table tr { \r\n",
       "    vertical-align: top; \r\n",
       "    margin: 0em 0px;\r\n",
       "}\r\n",
       "table tr td pre \r\n",
       "{ \r\n",
       "    vertical-align: top !important; \r\n",
       "    margin: 0em 0px !important;\r\n",
       "} \r\n",
       "table th {\r\n",
       "    text-align: start;\r\n",
       "}\r\n",
       "</style>"
      ]
     },
     "metadata": {},
     "output_type": "display_data"
    },
    {
     "data": {
      "text/html": [
       "<table><tbody><tr><td><img src=\"data:image/png;base64, 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\" width=\"125em\"></img></td><td style=\"line-height:.8em\"><p style=\"font-size:1.5em\"><b>.NET Interactive</b></p><p>&#169; 2020 Microsoft Corporation</p><p><b>Version: </b>1.0.360602+9bf026dabac44a6256a65168fa93dcb7e2edcca4</p><p><b>Library version: </b>1.0.0-beta.22606.2+9bf026dabac44a6256a65168fa93dcb7e2edcca4</p><p><b>Build date: </b>2022-12-10T01:03:09.8221170Z</p><p><a href=\"https://github.com/dotnet/interactive\">https://github.com/dotnet/interactive</a></p></td></tr></tbody></table>"
      ]
     },
     "metadata": {},
     "output_type": "display_data"
    }
   ],
   "source": [
    "System.Diagnostics.Process.GetCurrentProcess().Id.Display()\n",
    "\n",
    "#!about"
   ]
  }
 ],
 "metadata": {
  "kernelspec": {
   "display_name": ".NET (C#)",
   "language": "C#",
   "name": ".net-csharp"
  },
  "polyglot_notebook": {
   "kernelInfo": {
    "defaultKernelName": "csharp",
    "items": [
     {
      "aliases": [],
      "name": "csharp"
     }
    ]
   }
  }
 },
 "nbformat": 4,
 "nbformat_minor": 2
}
